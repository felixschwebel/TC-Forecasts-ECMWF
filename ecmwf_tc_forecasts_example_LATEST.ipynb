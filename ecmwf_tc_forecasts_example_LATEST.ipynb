{
 "cells": [
  {
   "metadata": {},
   "cell_type": "markdown",
   "source": "# ECMWF Tropical Cyclone Data Extractor - LATEST STORM Example",
   "id": "749b7f0d4481ed21"
  },
  {
   "metadata": {},
   "cell_type": "markdown",
   "source": "The extractor downloads tropical cyclone track BUFR files from ECMWF's Dissemination (DISS) system at https://essential.ecmwf.int/. It provides dynamic access to forecast data based on date/time parameters.",
   "id": "2c00ed9fc70518c4"
  },
  {
   "metadata": {},
   "cell_type": "markdown",
   "source": "## Download",
   "id": "cfd08b417713f601"
  },
  {
   "metadata": {},
   "cell_type": "code",
   "source": [
    "from ecmwf_tc_data_downloader import download_tc_data, list_available_storms\n",
    "\n",
    "import os\n",
    "import shutil\n",
    "import glob"
   ],
   "id": "4b5e367612664e46",
   "outputs": [],
   "execution_count": null
  },
  {
   "metadata": {},
   "cell_type": "markdown",
   "source": "### List available storms",
   "id": "cba89b6b8922af0d"
  },
  {
   "metadata": {},
   "cell_type": "code",
   "source": [
    "storms = list_available_storms(limit=1)\n",
    "\n",
    "print(f\"Found {len(storms)} unique storms:\")\n",
    "for i, storm in enumerate(storms, 1):\n",
    "    print(f\"{i:2d}. {storm['storm_name']:8s} at {storm['latitude']:12s}, {storm['longitude']:12s} (Forecast: {storm['forecast_time']})\")"
   ],
   "id": "205ddacbc5ec3b4e",
   "outputs": [],
   "execution_count": null
  },
  {
   "metadata": {},
   "cell_type": "markdown",
   "source": "### Download latest forecasts",
   "id": "97fe0fa72d99aad8"
  },
  {
   "metadata": {},
   "cell_type": "code",
   "source": [
    "# Clear the tc_latest directory before processing\n",
    "if os.path.exists('tc_latest'):\n",
    "    shutil.rmtree('tc_latest')\n",
    "    print(\"Cleared tc_latest directory\")\n",
    "\n",
    "# Ensure tc_latest directory exists\n",
    "os.makedirs('tc_latest', exist_ok=True)"
   ],
   "id": "a2db06b605647db",
   "outputs": [],
   "execution_count": null
  },
  {
   "metadata": {},
   "cell_type": "code",
   "source": "results = download_tc_data(limit=1, output_dir='tc_latest')",
   "id": "c1bbe69599785c2b",
   "outputs": [],
   "execution_count": null
  },
  {
   "metadata": {},
   "cell_type": "markdown",
   "source": "## Extract",
   "id": "8aa7d6dbe62e98a5"
  },
  {
   "metadata": {},
   "cell_type": "code",
   "source": "from ecmwf_tc_data_extractor import extract_tc_data, extract_tc_data_from_file",
   "id": "3019c410903f9e97",
   "outputs": [],
   "execution_count": null
  },
  {
   "metadata": {},
   "cell_type": "code",
   "source": [
    "# Get files from tc_latest directory, preferring named storms over numeric identifiers\n",
    "bin_files = glob.glob('tc_latest/*.bin')\n",
    "if not bin_files:\n",
    "    raise FileNotFoundError(\"No .bin files found in tc_latest directory\")\n",
    "\n",
    "# Prefer files with named storms (not just numeric identifiers like 24W, 23W)\n",
    "# Look for files that have a name after \"tropical_cyclone_track_\" that doesn't start with a number\n",
    "named_storm_files = []\n",
    "numeric_storm_files = []\n",
    "\n",
    "for file in bin_files:\n",
    "    # Extract the part after \"tropical_cyclone_track_\"\n",
    "    if 'tropical_cyclone_track_' in file:\n",
    "        after_track = file.split('tropical_cyclone_track_')[1]\n",
    "        storm_name = after_track.split('_')[0]  # Get the first part before the next underscore\n",
    "\n",
    "        # Check if it's a named storm (doesn't start with a number)\n",
    "        if not storm_name[0].isdigit():\n",
    "            named_storm_files.append(file)\n",
    "        else:\n",
    "            numeric_storm_files.append(file)\n",
    "\n",
    "# Prefer named storms, fall back to numeric if no named storms available\n",
    "if named_storm_files:\n",
    "    filename = named_storm_files[0]\n",
    "    storm_name = filename.split('tropical_cyclone_track_')[1].split('_')[0]\n",
    "    print(f\"Selected named storm file: {storm_name} - {filename}\")\n",
    "else:\n",
    "    filename = numeric_storm_files[0] if numeric_storm_files else bin_files[0]\n",
    "    storm_name = filename.split('tropical_cyclone_track_')[1].split('_')[0] if 'tropical_cyclone_track_' in filename else \"unknown\"\n",
    "    print(f\"No named storms found, using: {storm_name} - {filename}\")\n"
   ],
   "id": "6aaeee2c1f7ed1c5",
   "outputs": [],
   "execution_count": null
  },
  {
   "metadata": {},
   "cell_type": "code",
   "source": [
    "# Extract using the main function (saves to CSV automatically)\n",
    "result = extract_tc_data_from_file(filename, output_dir='tc_latest')"
   ],
   "id": "b8d5a9f63b414cf6",
   "outputs": [],
   "execution_count": null
  },
  {
   "metadata": {},
   "cell_type": "markdown",
   "source": "### Extract data without saving to CSV",
   "id": "e0504049db0dbadc"
  },
  {
   "metadata": {},
   "cell_type": "code",
   "source": [
    "df = extract_tc_data(filename, verbose=False)\n",
    "\n",
    "print(f\"Extracted {len(df)} records\")\n",
    "print(f\"Columns: {list(df.columns)}\")\n",
    "print(f\"Sample data:\")\n",
    "print(df.head())"
   ],
   "id": "facea11638a9f82e",
   "outputs": [],
   "execution_count": null
  },
  {
   "metadata": {},
   "cell_type": "markdown",
   "source": "## Explore",
   "id": "592a78bbcaa4272d"
  },
  {
   "metadata": {},
   "cell_type": "code",
   "source": [
    "from ecmwf_tc_data_explorer import (\n",
    "    create_track_visualization,\n",
    "    create_intensity_plot,\n",
    "    create_wind_field_visualization\n",
    ")"
   ],
   "id": "9dfea4ff75877ebc",
   "outputs": [],
   "execution_count": null
  },
  {
   "metadata": {},
   "cell_type": "code",
   "source": [
    "# Load the extracted data - find the CSV file automatically\n",
    "csv_files = glob.glob('tc_latest/*_extracted.csv')\n",
    "if not csv_files:\n",
    "    raise FileNotFoundError(\"No extracted CSV files found in tc_latest directory\")\n",
    "\n",
    "csv_file = csv_files[0]\n",
    "print(f\"Loading data from: {csv_file}\")"
   ],
   "id": "d6d1e9568ee708b4",
   "outputs": [],
   "execution_count": null
  },
  {
   "metadata": {},
   "cell_type": "code",
   "source": [
    "fig_tracks = create_track_visualization(csv_file)\n",
    "fig_tracks"
   ],
   "id": "49be29467f4f9928",
   "outputs": [],
   "execution_count": null
  },
  {
   "metadata": {},
   "cell_type": "code",
   "source": "fig_wind = create_wind_field_visualization(csv_file)",
   "id": "26095b07aa5b72ca",
   "outputs": [],
   "execution_count": null
  },
  {
   "metadata": {},
   "cell_type": "code",
   "source": "fig_intensity = create_intensity_plot(csv_file)",
   "id": "a1b93616ad61e04b",
   "outputs": [],
   "execution_count": null
  },
  {
   "metadata": {},
   "cell_type": "code",
   "source": "",
   "id": "e12fb145654a22f1",
   "outputs": [],
   "execution_count": null
  }
 ],
 "metadata": {
  "kernelspec": {
   "display_name": ".venv",
   "language": "python",
   "name": "python3"
  },
  "language_info": {
   "codemirror_mode": {
    "name": "ipython",
    "version": 3
   },
   "file_extension": ".py",
   "mimetype": "text/x-python",
   "name": "python",
   "nbconvert_exporter": "python",
   "pygments_lexer": "ipython3",
   "version": "3.13.0"
  }
 },
 "nbformat": 4,
 "nbformat_minor": 5
}
