{
 "cells": [
  {
   "cell_type": "markdown",
   "id": "6634a87a",
   "metadata": {},
   "source": [
    "# ECMWF Tropical Cyclone Data Extractor - Example"
   ]
  },
  {
   "cell_type": "markdown",
   "id": "5a93d077",
   "metadata": {},
   "source": [
    "The extractor downloads tropical cyclone track BUFR files from ECMWF's Dissemination (DISS) system at https://essential.ecmwf.int/. It provides dynamic access to forecast data based on date/time parameters."
   ]
  },
  {
   "cell_type": "markdown",
   "id": "8f68eb60",
   "metadata": {},
   "source": [
    "## Download"
   ]
  },
  {
   "cell_type": "code",
   "id": "755e7190",
   "metadata": {
    "ExecuteTime": {
     "end_time": "2025-09-10T09:06:05.422798Z",
     "start_time": "2025-09-10T09:06:05.253689Z"
    }
   },
   "source": [
    "from ecmwf_tc_data_downloader import download_tc_data, list_available_storms"
   ],
   "outputs": [],
   "execution_count": 1
  },
  {
   "cell_type": "markdown",
   "id": "d2d531c4",
   "metadata": {},
   "source": [
    "### List available storms"
   ]
  },
  {
   "cell_type": "code",
   "id": "6ff85008",
   "metadata": {
    "ExecuteTime": {
     "end_time": "2025-09-10T09:06:06.127928Z",
     "start_time": "2025-09-10T09:06:05.428069Z"
    }
   },
   "source": [
    "storms = list_available_storms(limit=1)\n",
    "\n",
    "print(f\"Found {len(storms)} unique storms:\")\n",
    "for i, storm in enumerate(storms, 1):\n",
    "    print(f\"{i:2d}. {storm['storm_name']:8s} at {storm['latitude']:12s}, {storm['longitude']:12s} (Forecast: {storm['forecast_time']})\")"
   ],
   "outputs": [
    {
     "name": "stdout",
     "output_type": "stream",
     "text": [
      "Found 1 forecast dates\n",
      "   Found 47 tropical cyclone track files\n",
      "Found 26 unique storms\n",
      "Found 26 unique storms:\n",
      " 1. KIKO     at 22p7degN    , -155p7degW   (Forecast: 20250910000000)\n",
      " 2. 70W      at 12p2degN    , 119p4degE    (Forecast: 20250910000000)\n",
      " 3. 71W      at 8p6degN     , 175p4degE    (Forecast: 20250910000000)\n",
      " 4. 72W      at 9p8degN     , 169p6degE    (Forecast: 20250910000000)\n",
      " 5. 73W      at 34p9degN    , 124p1degE    (Forecast: 20250910000000)\n",
      " 6. 74W      at 15p2degN    , 138p9degE    (Forecast: 20250910000000)\n",
      " 7. 76W      at 18p6degN    , 122p6degE    (Forecast: 20250910000000)\n",
      " 8. 78W      at 16p9degN    , 119p9degE    (Forecast: 20250910000000)\n",
      " 9. 70E      at 10p6degN    , -96p9degW    (Forecast: 20250910000000)\n",
      "10. 71E      at 12p9degN    , -106p1degW   (Forecast: 20250910000000)\n",
      "11. 72E      at 14p6degN    , -96p2degW    (Forecast: 20250910000000)\n",
      "12. 73E      at 10p2degN    , -138p4degW   (Forecast: 20250910000000)\n",
      "13. 74E      at 12p6degN    , -90p6degW    (Forecast: 20250910000000)\n",
      "14. 75E      at 14p1degN    , -110p7degW   (Forecast: 20250910000000)\n",
      "15. 71L      at 15p9degN    , -20p2degW    (Forecast: 20250910000000)\n",
      "16. 72L      at 12p8degN    , -17p1degW    (Forecast: 20250910000000)\n",
      "17. 73L      at 37p2degN    , -65p3degW    (Forecast: 20250910000000)\n",
      "18. 74L      at 15p9degN    , -18p5degW    (Forecast: 20250910000000)\n",
      "19. 75L      at 11p1degN    , -26p9degW    (Forecast: 20250910000000)\n",
      "20. 77L      at 17p8degN    , -19p7degW    (Forecast: 20250910000000)\n",
      "21. 70C      at 9p3degN     , -166p3degW   (Forecast: 20250910000000)\n",
      "22. 71C      at 9p2degN     , -179p5degW   (Forecast: 20250910000000)\n",
      "23. 70A      at 25p2degN    , 66p2degE     (Forecast: 20250910000000)\n",
      "24. 71A      at 18p1degN    , 71p2degE     (Forecast: 20250910000000)\n",
      "25. 72A      at 17p6degN    , 72p4degE     (Forecast: 20250910000000)\n",
      "26. 72B      at 15p9degN    , 86p6degE     (Forecast: 20250910000000)\n"
     ]
    }
   ],
   "execution_count": 2
  },
  {
   "cell_type": "markdown",
   "id": "5b08aee5",
   "metadata": {},
   "source": [
    "### Download latest forecasts"
   ]
  },
  {
   "cell_type": "code",
   "id": "63307159",
   "metadata": {
    "ExecuteTime": {
     "end_time": "2025-09-10T09:06:07.259272Z",
     "start_time": "2025-09-10T09:06:06.132382Z"
    }
   },
   "source": [
    "results = download_tc_data(limit=1, storm_name=\"KIKO\")"
   ],
   "outputs": [
    {
     "name": "stdout",
     "output_type": "stream",
     "text": [
      "Found 1 forecast dates\n",
      "Processing 1 forecast(s)\n",
      "Filtering for storm: KIKO\n",
      "\n",
      "   Found 2 tropical cyclone track files\n",
      "   Storm: KIKO at 22p7degN, -155p7degW\n",
      "   Downloaded: A_JSXX02ECEP100000_C_ECMP_20250910000000_tropical_cyclone_track_KIKO_-155p7degW_22p7degN_bufr4.bin (25,289 bytes)\n",
      "   Downloaded: A_JSXX02ECMF100000_C_ECMP_20250910000000_tropical_cyclone_track_KIKO_-155p7degW_22p7degN_bufr4.bin (214 bytes)\n",
      "\n",
      "==================================================\n",
      "Summary:\n",
      "   Successfully downloaded: 2 files\n",
      "   Failed downloads: 0 files\n",
      "   Files saved to: tc_data/\n"
     ]
    }
   ],
   "execution_count": 3
  },
  {
   "metadata": {},
   "cell_type": "markdown",
   "source": "## Extract",
   "id": "7677d8fdc5f8c021"
  },
  {
   "metadata": {
    "ExecuteTime": {
     "end_time": "2025-09-12T07:05:39.910085Z",
     "start_time": "2025-09-12T07:05:39.256195Z"
    }
   },
   "cell_type": "code",
   "source": "from ecmwf_tc_data_extractor import extract_tc_data, extract_tc_data_from_file",
   "id": "d947daee521a3c37",
   "outputs": [],
   "execution_count": 1
  },
  {
   "metadata": {
    "ExecuteTime": {
     "end_time": "2025-09-12T07:07:36.896329Z",
     "start_time": "2025-09-12T07:07:36.867470Z"
    }
   },
   "cell_type": "code",
   "source": [
    "# Extract data from the downloaded KIKO storm file\n",
    "filename = 'tc_data/A_JSXX02ECEP100000_C_ECMP_20250910000000_tropical_cyclone_track_KIKO_-155p7degW_22p7degN_bufr4.bin'\n",
    "\n",
    "# Extract using the main function (saves to CSV automatically)\n",
    "result = extract_tc_data_from_file(filename)"
   ],
   "id": "a98e7a9a471fa85f",
   "outputs": [
    {
     "name": "stdout",
     "output_type": "stream",
     "text": [
      "Extracting tropical cyclone data from: tc_data/A_JSXX02ECEP100000_C_ECMP_20250910000000_tropical_cyclone_track_KIKO_-155p7degW_22p7degN_bufr4.bin\n",
      "Stage 1: Reading BUFR file structure...\n",
      "Storm: 11E, Ensemble Members: 52\n",
      "Forecast Base Time: 2025-09-10 00:00:00\n",
      "Number of Subsets: 52\n",
      "Stage 2: Extracting data arrays from BUFR Section 4...\n",
      "Array sizes:\n",
      "  latitude: 4163\n",
      "  longitude: 4163\n",
      "  significance: 134\n",
      "    Unique values: [1 3 4 5]\n",
      "  time_period: 40\n",
      "  pressure: 2081\n",
      "  wind_speed: 2081\n",
      "  wind_threshold: 123\n",
      "    Unique values: [18 26 33]\n",
      "  bearing: 984\n",
      "    Unique values: [  0.  90. 180. 270.]\n",
      "\n",
      "Stage 3: Structuring extracted data...\n",
      "Creating records for 4163 data points...\n",
      "\n",
      "Stage 4: Validating extracted data...\n",
      "Total records extracted: 4163\n",
      "Records with valid coordinates: 307\n",
      "Records with pressure data: 153\n",
      "Records with wind speed data: 153\n",
      "Records with wind radii data: 123\n",
      "Data quality: 7.4% valid coordinates\n",
      "Data saved to: tc_data/A_JSXX02ECEP100000_C_ECMP_20250910000000_tropical_cyclone_track_KIKO_-155p7degW_22p7degN_bufr4_extracted.csv\n",
      "==================================================\n",
      "Summary:\n",
      "   Successfully extracted: 4163 records\n",
      "   CSV file: tc_data/A_JSXX02ECEP100000_C_ECMP_20250910000000_tropical_cyclone_track_KIKO_-155p7degW_22p7degN_bufr4_extracted.csv\n",
      "==================================================\n"
     ]
    }
   ],
   "execution_count": 5
  },
  {
   "metadata": {},
   "cell_type": "markdown",
   "source": "### Extract data without saving to CSV",
   "id": "1eff73cc6701fe63"
  },
  {
   "metadata": {
    "ExecuteTime": {
     "end_time": "2025-09-12T07:08:20.728303Z",
     "start_time": "2025-09-12T07:08:20.708082Z"
    }
   },
   "cell_type": "code",
   "source": [
    "df = extract_tc_data(filename, verbose=False)\n",
    "\n",
    "print(f\"Extracted {len(df)} records\")\n",
    "print(f\"Columns: {list(df.columns)}\")\n",
    "print(f\"Sample data:\")\n",
    "print(df.head())"
   ],
   "id": "b5df800d7104564e",
   "outputs": [
    {
     "name": "stdout",
     "output_type": "stream",
     "text": [
      "Extracted 4163 records\n",
      "Columns: ['storm_id', 'ensemble_member', 'forecast_step_hours', 'datetime', 'significance_code', 'position_type', 'latitude', 'longitude', 'pressure_pa', 'pressure_hpa', 'wind_speed_ms', 'wind_speed_knots', 'wind_threshold_ms', 'wind_threshold_knots', 'bearing_degrees', 'max_radius_km', 'array_index']\n",
      "Sample data:\n",
      "  storm_id  ensemble_member  forecast_step_hours            datetime  \\\n",
      "0      11E                1                    6 2025-09-10 06:00:00   \n",
      "1      11E                2                   12 2025-09-10 12:00:00   \n",
      "2      11E                3                   18 2025-09-10 18:00:00   \n",
      "3      11E                4                   24 2025-09-11 00:00:00   \n",
      "4      11E                5                   30 2025-09-11 06:00:00   \n",
      "\n",
      "   significance_code      position_type  latitude  longitude  pressure_pa  \\\n",
      "0                1.0       storm_center      22.7     -155.7          NaN   \n",
      "1                4.0  analysis_position       NaN        NaN          NaN   \n",
      "2                4.0  analysis_position       NaN        NaN          NaN   \n",
      "3                4.0  analysis_position       NaN        NaN          NaN   \n",
      "4                4.0  analysis_position       NaN        NaN          NaN   \n",
      "\n",
      "   pressure_hpa  wind_speed_ms  wind_speed_knots  wind_threshold_ms  \\\n",
      "0           NaN            NaN               NaN               18.0   \n",
      "1           NaN            NaN               NaN               26.0   \n",
      "2           NaN            NaN               NaN               33.0   \n",
      "3           NaN            NaN               NaN               18.0   \n",
      "4           NaN            NaN               NaN               26.0   \n",
      "\n",
      "   wind_threshold_knots  bearing_degrees max_radius_km  array_index  \n",
      "0              34.98912              0.0          None            0  \n",
      "1              50.53984             90.0          None            1  \n",
      "2              64.14672             90.0          None            2  \n",
      "3              34.98912            180.0          None            3  \n",
      "4              50.53984            180.0          None            4  \n"
     ]
    }
   ],
   "execution_count": 7
  },
  {
   "metadata": {},
   "cell_type": "code",
   "outputs": [],
   "execution_count": null,
   "source": "",
   "id": "30daef52f558556d"
  }
 ],
 "metadata": {
  "kernelspec": {
   "display_name": ".venv",
   "language": "python",
   "name": "python3"
  },
  "language_info": {
   "codemirror_mode": {
    "name": "ipython",
    "version": 3
   },
   "file_extension": ".py",
   "mimetype": "text/x-python",
   "name": "python",
   "nbconvert_exporter": "python",
   "pygments_lexer": "ipython3",
   "version": "3.13.0"
  }
 },
 "nbformat": 4,
 "nbformat_minor": 5
}
