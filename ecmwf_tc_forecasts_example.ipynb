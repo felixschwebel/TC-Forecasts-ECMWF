{
 "cells": [
  {
   "cell_type": "markdown",
   "id": "6634a87a",
   "metadata": {},
   "source": [
    "# ECMWF Tropical Cyclone Data Extractor - Example"
   ]
  },
  {
   "cell_type": "markdown",
   "id": "5a93d077",
   "metadata": {},
   "source": [
    "The extractor downloads tropical cyclone track BUFR files from ECMWF's Dissemination (DISS) system at https://essential.ecmwf.int/. It provides dynamic access to forecast data based on date/time parameters."
   ]
  },
  {
   "cell_type": "markdown",
   "id": "8f68eb60",
   "metadata": {},
   "source": [
    "## Download"
   ]
  },
  {
   "cell_type": "code",
   "id": "755e7190",
   "metadata": {
    "ExecuteTime": {
     "end_time": "2025-09-12T08:52:09.179709Z",
     "start_time": "2025-09-12T08:52:09.088934Z"
    }
   },
   "source": [
    "from ecmwf_tc_data_downloader import download_tc_data, list_available_storms"
   ],
   "outputs": [],
   "execution_count": 1
  },
  {
   "cell_type": "markdown",
   "id": "d2d531c4",
   "metadata": {},
   "source": [
    "### List available storms"
   ]
  },
  {
   "cell_type": "code",
   "id": "6ff85008",
   "metadata": {
    "ExecuteTime": {
     "end_time": "2025-09-12T08:52:10.837140Z",
     "start_time": "2025-09-12T08:52:10.024689Z"
    }
   },
   "source": [
    "storms = list_available_storms(limit=1)\n",
    "\n",
    "print(f\"Found {len(storms)} unique storms:\")\n",
    "for i, storm in enumerate(storms, 1):\n",
    "    print(f\"{i:2d}. {storm['storm_name']:8s} at {storm['latitude']:12s}, {storm['longitude']:12s} (Forecast: {storm['forecast_time']})\")"
   ],
   "outputs": [
    {
     "name": "stdout",
     "output_type": "stream",
     "text": [
      "Found 1 forecast dates\n",
      "   Found 51 tropical cyclone track files\n",
      "Found 27 unique storms\n",
      "Found 27 unique storms:\n",
      " 1. 13E      at 15p8degN    , -99p1degW    (Forecast: 20250912000000)\n",
      " 2. 72W      at 8p1degN     , 155p8degE    (Forecast: 20250912000000)\n",
      " 3. 73W      at 20p5degN    , 117p1degE    (Forecast: 20250912000000)\n",
      " 4. 74W      at 7p2degN     , 177p8degE    (Forecast: 20250912000000)\n",
      " 5. 76W      at 19p7degN    , 141p6degE    (Forecast: 20250912000000)\n",
      " 6. 78W      at 9p8degN     , 164p8degE    (Forecast: 20250912000000)\n",
      " 7. 79W      at 17p1degN    , 132p8degE    (Forecast: 20250912000000)\n",
      " 8. 70E      at 12p1degN    , -139p7degW   (Forecast: 20250912000000)\n",
      " 9. 71E      at 17p1degN    , -108p8degW   (Forecast: 20250912000000)\n",
      "10. 72E      at 14p3degN    , -117p5degW   (Forecast: 20250912000000)\n",
      "11. 74E      at 11p9degN    , -93p2degW    (Forecast: 20250912000000)\n",
      "12. 75E      at 10p7degN    , -94p2degW    (Forecast: 20250912000000)\n",
      "13. 76E      at 12p1degN    , -89p6degW    (Forecast: 20250912000000)\n",
      "14. 70L      at 14p3degN    , -17p3degW    (Forecast: 20250912000000)\n",
      "15. 71L      at 37p4degN    , -56p4degW    (Forecast: 20250912000000)\n",
      "16. 72L      at 11p4degN    , -69p8degW    (Forecast: 20250912000000)\n",
      "17. 73L      at 34p4degN    , -64p8degW    (Forecast: 20250912000000)\n",
      "18. 74L      at 17p1degN    , -46p2degW    (Forecast: 20250912000000)\n",
      "19. 75L      at 12p6degN    , -40p5degW    (Forecast: 20250912000000)\n",
      "20. 76L      at 12p2degN    , -11p1degW    (Forecast: 20250912000000)\n",
      "21. 77L      at 15p7degN    , -60p6degW    (Forecast: 20250912000000)\n",
      "22. 78L      at 21p9degN    , -44p8degW    (Forecast: 20250912000000)\n",
      "23. 71C      at 8p5degN     , -168p2degW   (Forecast: 20250912000000)\n",
      "24. 73C      at 9p3degN     , -172p9degW   (Forecast: 20250912000000)\n",
      "25. 70A      at 19p9degN    , 72p6degE     (Forecast: 20250912000000)\n",
      "26. 72A      at 26p6degN    , 52p5degE     (Forecast: 20250912000000)\n",
      "27. 71B      at 19p9degN    , 90p3degE     (Forecast: 20250912000000)\n"
     ]
    }
   ],
   "execution_count": 2
  },
  {
   "cell_type": "markdown",
   "id": "5b08aee5",
   "metadata": {},
   "source": [
    "### Download latest forecasts"
   ]
  },
  {
   "cell_type": "code",
   "id": "63307159",
   "metadata": {
    "ExecuteTime": {
     "end_time": "2025-09-12T08:52:12.921549Z",
     "start_time": "2025-09-12T08:52:12.260215Z"
    }
   },
   "source": [
    "results = download_tc_data(limit=1, storm_name=\"KIKO\")"
   ],
   "outputs": [
    {
     "name": "stdout",
     "output_type": "stream",
     "text": [
      "Found 1 forecast dates\n",
      "Processing 1 forecast(s)\n",
      "Filtering for storm: KIKO\n",
      "\n",
      "   Found 0 tropical cyclone track files\n",
      "   Warning: No tropical cyclone files found for 20250912000000\n",
      "==================================================\n",
      "Summary:\n",
      "   Successfully downloaded: 0 files\n",
      "   Failed downloads: 0 files\n",
      "   Files saved to: tc_data/\n"
     ]
    }
   ],
   "execution_count": 3
  },
  {
   "metadata": {},
   "cell_type": "markdown",
   "source": "## Extract",
   "id": "7677d8fdc5f8c021"
  },
  {
   "metadata": {
    "ExecuteTime": {
     "end_time": "2025-09-12T09:11:06.573985Z",
     "start_time": "2025-09-12T09:11:06.313850Z"
    }
   },
   "cell_type": "code",
   "source": "from ecmwf_tc_data_extractor import extract_tc_data, extract_tc_data_from_file",
   "id": "d947daee521a3c37",
   "outputs": [],
   "execution_count": 4
  },
  {
   "metadata": {
    "ExecuteTime": {
     "end_time": "2025-09-12T09:11:07.448522Z",
     "start_time": "2025-09-12T09:11:07.381590Z"
    }
   },
   "cell_type": "code",
   "source": [
    "# Extract data from the downloaded KIKO storm file\n",
    "filename = 'tc_data/A_JSXX02ECEP100000_C_ECMP_20250910000000_tropical_cyclone_track_KIKO_-155p7degW_22p7degN_bufr4.bin'\n",
    "\n",
    "# Extract using the main function (saves to CSV automatically)\n",
    "result = extract_tc_data_from_file(filename)"
   ],
   "id": "a98e7a9a471fa85f",
   "outputs": [
    {
     "name": "stdout",
     "output_type": "stream",
     "text": [
      "Extracting tropical cyclone data from: tc_data/A_JSXX02ECEP100000_C_ECMP_20250910000000_tropical_cyclone_track_KIKO_-155p7degW_22p7degN_bufr4.bin\n",
      "Stage 1: Reading BUFR file structure...\n",
      "Storm: 11E, Ensemble Members: 52\n",
      "Forecast Base Time: 2025-09-10 00:00:00\n",
      "Number of Subsets: 52\n",
      "Stage 2: Extracting data arrays from BUFR Section 4...\n",
      "Array sizes:\n",
      "  latitude: 4163\n",
      "  longitude: 4163\n",
      "  significance: 134\n",
      "    Unique values: [1 3 4 5]\n",
      "  time_period: 40\n",
      "  pressure: 2081\n",
      "  wind_speed: 2081\n",
      "  wind_threshold: 123\n",
      "    Unique values: [18 26 33]\n",
      "  bearing: 984\n",
      "    Unique values: [  0.  90. 180. 270.]\n",
      "\n",
      "Stage 3: Mapping wind radii data to positions...\n",
      "Processing 4163 positions...\n",
      "Mapping wind radii data using systematic array association...\n",
      "\n",
      "Stage 4: Structuring data and creating comprehensive records...\n",
      "Total records created: 4163\n",
      "Records with coordinates: 307\n",
      "Records with wind radii data: 123\n",
      "\n",
      "Wind threshold distribution:\n",
      "  35 knots: 41 records\n",
      "  51 knots: 41 records\n",
      "  64 knots: 41 records\n",
      "\n",
      "Bearing distribution:\n",
      "  North (0.0°): 31 records\n",
      "  East (90.0°): 32 records\n",
      "  South (180.0°): 30 records\n",
      "  West (270.0°): 30 records\n",
      "\n",
      "Sample wind radii records:\n",
      "  1. Member 1, 6h: 35kt at 0° (22.70, -155.70)\n",
      "  2. Member 14, 6h: 51kt at 90° (23.00, -155.60)\n",
      "  3. Member 15, 6h: 64kt at 90° (23.40, -155.30)\n",
      "  4. Member 20, 6h: 35kt at 180° (23.00, -155.50)\n",
      "  5. Member 42, 6h: 51kt at 180° (23.00, -155.30)\n",
      "  6. Member 14, 6h: 64kt at 270° (23.50, -155.10)\n",
      "  7. Member 15, 6h: 35kt at 270° (23.40, -155.70)\n",
      "  8. Member 20, 6h: 51kt at 0° (23.50, -155.80)\n",
      "  9. Member 42, 6h: 64kt at 0° (23.40, -154.90)\n",
      "  10. Member 11, 12h: 35kt at 90° (24.20, -155.70)\n",
      "Data saved to: tc_data/A_JSXX02ECEP100000_C_ECMP_20250910000000_tropical_cyclone_track_KIKO_-155p7degW_22p7degN_bufr4_extracted.csv\n",
      "==================================================\n",
      "Summary:\n",
      "   Successfully extracted: 4163 records\n",
      "   Wind radii records: 123\n",
      "   CSV file: tc_data/A_JSXX02ECEP100000_C_ECMP_20250910000000_tropical_cyclone_track_KIKO_-155p7degW_22p7degN_bufr4_extracted.csv\n",
      "==================================================\n"
     ]
    }
   ],
   "execution_count": 5
  },
  {
   "metadata": {},
   "cell_type": "markdown",
   "source": "### Extract data without saving to CSV",
   "id": "1eff73cc6701fe63"
  },
  {
   "metadata": {
    "ExecuteTime": {
     "end_time": "2025-09-12T09:11:10.343864Z",
     "start_time": "2025-09-12T09:11:10.311930Z"
    }
   },
   "cell_type": "code",
   "source": [
    "df = extract_tc_data(filename, verbose=False)\n",
    "\n",
    "print(f\"Extracted {len(df)} records\")\n",
    "print(f\"Columns: {list(df.columns)}\")\n",
    "print(f\"Sample data:\")\n",
    "print(df.head())"
   ],
   "id": "b5df800d7104564e",
   "outputs": [
    {
     "name": "stdout",
     "output_type": "stream",
     "text": [
      "Extracted 4163 records\n",
      "Columns: ['storm_id', 'ensemble_member', 'forecast_step_hours', 'datetime', 'significance_code', 'position_type', 'latitude', 'longitude', 'pressure_pa', 'pressure_hpa', 'wind_speed_ms', 'wind_speed_knots', 'wind_threshold_ms', 'wind_threshold_knots', 'bearing_degrees', 'max_radius_km', 'array_index', 'has_wind_radii']\n",
      "Sample data:\n",
      "  storm_id  ensemble_member  forecast_step_hours            datetime  \\\n",
      "0      11E                1                    6 2025-09-10 06:00:00   \n",
      "1      11E                2                    6 2025-09-10 06:00:00   \n",
      "2      11E                3                    6 2025-09-10 06:00:00   \n",
      "3      11E                4                    6 2025-09-10 06:00:00   \n",
      "4      11E                5                    6 2025-09-10 06:00:00   \n",
      "\n",
      "   significance_code      position_type  latitude  longitude  pressure_pa  \\\n",
      "0                  1       storm_center      22.7     -155.7          NaN   \n",
      "1                  4  analysis_position       NaN        NaN          NaN   \n",
      "2                  4  analysis_position       NaN        NaN          NaN   \n",
      "3                  4  analysis_position       NaN        NaN          NaN   \n",
      "4                  4  analysis_position       NaN        NaN          NaN   \n",
      "\n",
      "   pressure_hpa  wind_speed_ms  wind_speed_knots  wind_threshold_ms  \\\n",
      "0           NaN            NaN               NaN               18.0   \n",
      "1           NaN            NaN               NaN                NaN   \n",
      "2           NaN            NaN               NaN                NaN   \n",
      "3           NaN            NaN               NaN                NaN   \n",
      "4           NaN            NaN               NaN                NaN   \n",
      "\n",
      "   wind_threshold_knots  bearing_degrees max_radius_km  array_index  \\\n",
      "0              34.98912              0.0          None            0   \n",
      "1                   NaN              NaN          None            1   \n",
      "2                   NaN              NaN          None            2   \n",
      "3                   NaN              NaN          None            3   \n",
      "4                   NaN              NaN          None            4   \n",
      "\n",
      "   has_wind_radii  \n",
      "0            True  \n",
      "1           False  \n",
      "2           False  \n",
      "3           False  \n",
      "4           False  \n"
     ]
    }
   ],
   "execution_count": 6
  },
  {
   "metadata": {},
   "cell_type": "code",
   "outputs": [],
   "execution_count": null,
   "source": "",
   "id": "30daef52f558556d"
  }
 ],
 "metadata": {
  "kernelspec": {
   "display_name": ".venv",
   "language": "python",
   "name": "python3"
  },
  "language_info": {
   "codemirror_mode": {
    "name": "ipython",
    "version": 3
   },
   "file_extension": ".py",
   "mimetype": "text/x-python",
   "name": "python",
   "nbconvert_exporter": "python",
   "pygments_lexer": "ipython3",
   "version": "3.13.0"
  }
 },
 "nbformat": 4,
 "nbformat_minor": 5
}
