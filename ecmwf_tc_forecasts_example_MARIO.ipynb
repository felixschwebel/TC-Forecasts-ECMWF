{
 "cells": [
  {
   "cell_type": "markdown",
   "id": "6634a87a",
   "metadata": {},
   "source": "# ECMWF Tropical Cyclone Data Extractor - MARIO Example"
  },
  {
   "cell_type": "markdown",
   "id": "5a93d077",
   "metadata": {},
   "source": [
    "The extractor downloads tropical cyclone track BUFR files from ECMWF's Dissemination (DISS) system at https://essential.ecmwf.int/. It provides dynamic access to forecast data based on date/time parameters."
   ]
  },
  {
   "cell_type": "markdown",
   "id": "8f68eb60",
   "metadata": {},
   "source": [
    "## Download"
   ]
  },
  {
   "cell_type": "code",
   "id": "755e7190",
   "metadata": {},
   "source": [
    "import pandas as pd\n",
    "\n",
    "from ecmwf_tc_data_downloader import download_tc_data"
   ],
   "outputs": [],
   "execution_count": null
  },
  {
   "cell_type": "code",
   "id": "63307159",
   "metadata": {},
   "source": "results = download_tc_data(limit=1, storm_name='MARIO', output_dir='tc_mario', date='20250915')",
   "outputs": [],
   "execution_count": null
  },
  {
   "metadata": {},
   "cell_type": "markdown",
   "source": "## Extract",
   "id": "7677d8fdc5f8c021"
  },
  {
   "metadata": {},
   "cell_type": "code",
   "source": "from ecmwf_tc_data_extractor import extract_tc_data, extract_tc_data_from_file",
   "id": "d947daee521a3c37",
   "outputs": [],
   "execution_count": null
  },
  {
   "metadata": {},
   "cell_type": "code",
   "source": [
    "# Extract data from the downloaded KIKO storm file\n",
    "filename = 'tc_mario/A_JSXX01ECEP150000_C_ECMP_20250915000000_tropical_cyclone_track_MARIO_-111p1degW_19p1degN_bufr4.bin'\n",
    "\n",
    "# Extract using the main function (saves to CSV automatically)\n",
    "result = extract_tc_data_from_file(filename, output_dir='tc_mario', verbose=False)"
   ],
   "id": "a98e7a9a471fa85f",
   "outputs": [],
   "execution_count": null
  },
  {
   "metadata": {},
   "cell_type": "markdown",
   "source": "### Extract data without saving to CSV",
   "id": "1eff73cc6701fe63"
  },
  {
   "metadata": {},
   "cell_type": "code",
   "source": [
    "df = extract_tc_data(filename, verbose=False)\n",
    "\n",
    "print(f\"Extracted {len(df)} records\")\n",
    "print(f\"Columns: {list(df.columns)}\")\n",
    "print(f\"Sample data:\")\n",
    "print(df.head())"
   ],
   "id": "b5df800d7104564e",
   "outputs": [],
   "execution_count": null
  },
  {
   "metadata": {},
   "cell_type": "code",
   "source": "df",
   "id": "237fdabb6406cc80",
   "outputs": [],
   "execution_count": null
  },
  {
   "metadata": {},
   "cell_type": "markdown",
   "source": "## Explore",
   "id": "2e6d1015f0034610"
  },
  {
   "metadata": {},
   "cell_type": "code",
   "source": [
    "from ecmwf_tc_data_explorer import (\n",
    "    create_track_visualization,\n",
    "    create_intensity_plot,\n",
    "    create_wind_field_visualization\n",
    ")"
   ],
   "id": "b168d081ce1d02c",
   "outputs": [],
   "execution_count": null
  },
  {
   "metadata": {},
   "cell_type": "code",
   "source": [
    "# Load the extracted data\n",
    "csv_file = 'tc_mario/A_JSXX01ECEP150000_C_ECMP_20250915000000_tropical_cyclone_track_MARIO_-111p1degW_19p1degN_bufr4_extracted.csv'"
   ],
   "id": "c6df52832959ffc9",
   "outputs": [],
   "execution_count": null
  },
  {
   "metadata": {},
   "cell_type": "code",
   "source": [
    "fig_tracks = create_track_visualization(csv_file)\n",
    "fig_tracks"
   ],
   "id": "e844325a0ecaff8c",
   "outputs": [],
   "execution_count": null
  },
  {
   "metadata": {},
   "cell_type": "code",
   "source": "fig_wind = create_wind_field_visualization(csv_file, n_members=5)",
   "id": "4e5a8e72f1d9e329",
   "outputs": [],
   "execution_count": null
  },
  {
   "metadata": {},
   "cell_type": "code",
   "source": "fig_intensity = create_intensity_plot(csv_file)",
   "id": "5bd848c4aa23136a",
   "outputs": [],
   "execution_count": null
  },
  {
   "metadata": {},
   "cell_type": "markdown",
   "source": "## Transform",
   "id": "f42e46ba2b25971d"
  },
  {
   "metadata": {},
   "cell_type": "code",
   "source": [
    "from ecmwf_tc_data_transformer import transform_tc_data_from_file, transform_all_in_directory\n",
    "import pandas as pd"
   ],
   "id": "7a3e6fdcfa957caa",
   "outputs": [],
   "execution_count": null
  },
  {
   "metadata": {},
   "cell_type": "code",
   "source": [
    "result = transform_tc_data_from_file(\"tc_mario/A_JSXX01ECEP150000_C_ECMP_20250915000000_tropical_cyclone_track_MARIO_-111p1degW_19p1degN_bufr4_extracted.csv\")\n",
    "\n",
    "# result = transform_all_in_directory(\"tc_mario\")"
   ],
   "id": "d9ae4a300db99e61",
   "outputs": [],
   "execution_count": null
  },
  {
   "metadata": {},
   "cell_type": "code",
   "source": "df_transformed = pd.read_csv(\"tc_mario/A_JSXX01ECEP150000_C_ECMP_20250915000000_tropical_cyclone_track_MARIO_-111p1degW_19p1degN_bufr4_extracted_transformed.csv\")",
   "id": "24f4248a8c355a78",
   "outputs": [],
   "execution_count": null
  },
  {
   "metadata": {},
   "cell_type": "code",
   "source": "df_transformed",
   "id": "c678a1da822083e3",
   "outputs": [],
   "execution_count": null
  },
  {
   "metadata": {},
   "cell_type": "code",
   "source": "",
   "id": "35f2756d13f26dfa",
   "outputs": [],
   "execution_count": null
  }
 ],
 "metadata": {
  "kernelspec": {
   "display_name": ".venv",
   "language": "python",
   "name": "python3"
  },
  "language_info": {
   "codemirror_mode": {
    "name": "ipython",
    "version": 3
   },
   "file_extension": ".py",
   "mimetype": "text/x-python",
   "name": "python",
   "nbconvert_exporter": "python",
   "pygments_lexer": "ipython3",
   "version": "3.13.0"
  }
 },
 "nbformat": 4,
 "nbformat_minor": 5
}
