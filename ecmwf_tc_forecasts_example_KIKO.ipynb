{
 "cells": [
  {
   "cell_type": "markdown",
   "id": "6634a87a",
   "metadata": {},
   "source": "# ECMWF Tropical Cyclone Data Extractor - KIKO Example"
  },
  {
   "cell_type": "markdown",
   "id": "5a93d077",
   "metadata": {},
   "source": [
    "The extractor downloads tropical cyclone track BUFR files from ECMWF's Dissemination (DISS) system at https://essential.ecmwf.int/. It provides dynamic access to forecast data based on date/time parameters."
   ]
  },
  {
   "cell_type": "markdown",
   "id": "8f68eb60",
   "metadata": {},
   "source": [
    "## Download"
   ]
  },
  {
   "cell_type": "code",
   "id": "755e7190",
   "metadata": {
    "ExecuteTime": {
     "end_time": "2025-09-25T13:43:52.938550Z",
     "start_time": "2025-09-25T13:43:52.846844Z"
    }
   },
   "source": "from ecmwf_tc_data_downloader import download_tc_data",
   "outputs": [],
   "execution_count": 1
  },
  {
   "metadata": {
    "ExecuteTime": {
     "end_time": "2025-09-25T13:43:56.437232Z",
     "start_time": "2025-09-25T13:43:53.654074Z"
    }
   },
   "cell_type": "code",
   "source": "results = download_tc_data(limit=1, date='20250910', storm_name='KIKO', output_dir='tc_kiko')",
   "id": "7293eaef1e7ee861",
   "outputs": [
    {
     "name": "stdout",
     "output_type": "stream",
     "text": [
      "Found 122 forecast dates\n",
      "Processing 4 forecast(s)\n",
      "Filtering for storm: KIKO\n",
      "\n",
      "   Found 1 tropical cyclone track files\n",
      "   Storm: KIKO at 22p9degN, -158p1degW\n",
      "   Downloaded: A_JSXX02ECEP101800_C_ECMP_20250910180000_tropical_cyclone_track_KIKO_-158p1degW_22p9degN_bufr4.bin (11,508 bytes)\n",
      "\n",
      "   Found 1 tropical cyclone track files\n",
      "   Storm: KIKO at 22p7degN, -157p5degW\n",
      "   Downloaded: A_JSXX02ECEP101200_C_ECMP_20250910120000_tropical_cyclone_track_KIKO_-157p5degW_22p7degN_bufr4.bin (8,877 bytes)\n",
      "\n",
      "   Found 1 tropical cyclone track files\n",
      "   Storm: KIKO at 22p4degN, -156p5degW\n",
      "   Downloaded: A_JSXX02ECEP100600_C_ECMP_20250910060000_tropical_cyclone_track_KIKO_-156p5degW_22p4degN_bufr4.bin (8,004 bytes)\n",
      "\n",
      "   Found 1 tropical cyclone track files\n",
      "   Storm: KIKO at 22p7degN, -155p7degW\n",
      "   Downloaded: A_JSXX02ECEP100000_C_ECMP_20250910000000_tropical_cyclone_track_KIKO_-155p7degW_22p7degN_bufr4.bin (25,289 bytes)\n",
      "\n",
      "==================================================\n",
      "Summary:\n",
      "   Successfully downloaded: 4 files\n",
      "   Failed downloads: 0 files\n",
      "   Files saved to: tc_kiko/\n"
     ]
    }
   ],
   "execution_count": 3
  },
  {
   "metadata": {},
   "cell_type": "markdown",
   "source": "## Extract",
   "id": "7677d8fdc5f8c021"
  },
  {
   "metadata": {
    "ExecuteTime": {
     "end_time": "2025-09-25T13:43:56.805301Z",
     "start_time": "2025-09-25T13:43:56.491612Z"
    }
   },
   "cell_type": "code",
   "source": "from ecmwf_tc_data_extractor import extract_tc_data, extract_tc_data_from_file",
   "id": "d947daee521a3c37",
   "outputs": [],
   "execution_count": 4
  },
  {
   "metadata": {
    "ExecuteTime": {
     "end_time": "2025-09-25T13:43:56.949224Z",
     "start_time": "2025-09-25T13:43:56.810777Z"
    }
   },
   "cell_type": "code",
   "source": [
    "# Extract data from the downloaded KIKO storm file\n",
    "filename = 'tc_kiko/A_JSXX02ECEP101200_C_ECMP_20250910120000_tropical_cyclone_track_KIKO_-157p5degW_22p7degN_bufr4.bin'\n",
    "\n",
    "# Extract using the main function (saves to CSV automatically)\n",
    "result = extract_tc_data_from_file(filename, output_dir='tc_kiko')"
   ],
   "id": "a98e7a9a471fa85f",
   "outputs": [
    {
     "name": "stdout",
     "output_type": "stream",
     "text": [
      "Extracting tropical cyclone data from: tc_kiko/A_JSXX02ECEP101200_C_ECMP_20250910120000_tropical_cyclone_track_KIKO_-157p5degW_22p7degN_bufr4.bin\n",
      "**************** MESSAGE:  1   *****************\n",
      "Date and time:  10 . 9 . 2025    12 : 0\n",
      "Storm identifier:  11E\n",
      "Number of Ensemble Members:  52\n"
     ]
    },
    {
     "ename": "IndexError",
     "evalue": "index 1 is out of bounds for axis 0 with size 1",
     "output_type": "error",
     "traceback": [
      "\u001B[31m---------------------------------------------------------------------------\u001B[39m",
      "\u001B[31mIndexError\u001B[39m                                Traceback (most recent call last)",
      "\u001B[36mCell\u001B[39m\u001B[36m \u001B[39m\u001B[32mIn[5]\u001B[39m\u001B[32m, line 5\u001B[39m\n\u001B[32m      2\u001B[39m filename = \u001B[33m'\u001B[39m\u001B[33mtc_kiko/A_JSXX02ECEP101200_C_ECMP_20250910120000_tropical_cyclone_track_KIKO_-157p5degW_22p7degN_bufr4.bin\u001B[39m\u001B[33m'\u001B[39m\n\u001B[32m      4\u001B[39m \u001B[38;5;66;03m# Extract using the main function (saves to CSV automatically)\u001B[39;00m\n\u001B[32m----> \u001B[39m\u001B[32m5\u001B[39m result = \u001B[43mextract_tc_data_from_file\u001B[49m\u001B[43m(\u001B[49m\u001B[43mfilename\u001B[49m\u001B[43m,\u001B[49m\u001B[43m \u001B[49m\u001B[43moutput_dir\u001B[49m\u001B[43m=\u001B[49m\u001B[33;43m'\u001B[39;49m\u001B[33;43mtc_kiko\u001B[39;49m\u001B[33;43m'\u001B[39;49m\u001B[43m)\u001B[49m\n",
      "\u001B[36mFile \u001B[39m\u001B[32m~/Library/CloudStorage/OneDrive-Personal/UNICEF/TC-Forecasts-ECMWF/ecmwf_tc_data_extractor.py:415\u001B[39m, in \u001B[36mextract_tc_data_from_file\u001B[39m\u001B[34m(filename, output_dir, verbose)\u001B[39m\n\u001B[32m    412\u001B[39m     \u001B[38;5;28mprint\u001B[39m(\u001B[33mf\u001B[39m\u001B[33m\"\u001B[39m\u001B[33mExtracting tropical cyclone data from: \u001B[39m\u001B[38;5;132;01m{\u001B[39;00mfilename\u001B[38;5;132;01m}\u001B[39;00m\u001B[33m\"\u001B[39m)\n\u001B[32m    414\u001B[39m \u001B[38;5;66;03m# Extract data\u001B[39;00m\n\u001B[32m--> \u001B[39m\u001B[32m415\u001B[39m df = \u001B[43mextract_tc_data\u001B[49m\u001B[43m(\u001B[49m\u001B[43mfilename\u001B[49m\u001B[43m,\u001B[49m\u001B[43m \u001B[49m\u001B[43mverbose\u001B[49m\u001B[43m=\u001B[49m\u001B[43mverbose\u001B[49m\u001B[43m)\u001B[49m\n\u001B[32m    417\u001B[39m \u001B[38;5;28;01mif\u001B[39;00m df.empty:\n\u001B[32m    418\u001B[39m     \u001B[38;5;28;01mif\u001B[39;00m verbose:\n",
      "\u001B[36mFile \u001B[39m\u001B[32m~/Library/CloudStorage/OneDrive-Personal/UNICEF/TC-Forecasts-ECMWF/ecmwf_tc_data_extractor.py:170\u001B[39m, in \u001B[36mextract_tc_data\u001B[39m\u001B[34m(filename, verbose)\u001B[39m\n\u001B[32m    164\u001B[39m \u001B[38;5;28;01melse\u001B[39;00m:\n\u001B[32m    165\u001B[39m     \u001B[38;5;66;03m# Analysis position is the same for all members, but pressure/wind may vary\u001B[39;00m\n\u001B[32m    166\u001B[39m     \u001B[38;5;28;01mfor\u001B[39;00m k \u001B[38;5;129;01min\u001B[39;00m \u001B[38;5;28mrange\u001B[39m(\u001B[38;5;28mlen\u001B[39m(memberNumber)):\n\u001B[32m    167\u001B[39m         data[k][\u001B[32m0\u001B[39m] = [\n\u001B[32m    168\u001B[39m             latitudeAnalysis[\u001B[32m0\u001B[39m],      \u001B[38;5;66;03m# Same storm center lat for all\u001B[39;00m\n\u001B[32m    169\u001B[39m             longitudeAnalysis[\u001B[32m0\u001B[39m],     \u001B[38;5;66;03m# Same storm center lon for all\u001B[39;00m\n\u001B[32m--> \u001B[39m\u001B[32m170\u001B[39m             \u001B[43mpressureAnalysis\u001B[49m\u001B[43m[\u001B[49m\u001B[43mk\u001B[49m\u001B[43m]\u001B[49m,      \u001B[38;5;66;03m# Member-specific pressure\u001B[39;00m\n\u001B[32m    171\u001B[39m             latitudeMaxWind0[\u001B[32m0\u001B[39m],      \u001B[38;5;66;03m# Same max wind lat for all\u001B[39;00m\n\u001B[32m    172\u001B[39m             longitudeMaxWind0[\u001B[32m0\u001B[39m],     \u001B[38;5;66;03m# Same max wind lon for all\u001B[39;00m\n\u001B[32m    173\u001B[39m             windMaxWind0[k]           \u001B[38;5;66;03m# Member-specific wind speed\u001B[39;00m\n\u001B[32m    174\u001B[39m         ]\n\u001B[32m    176\u001B[39m \u001B[38;5;66;03m# Process forecast data for each time period beyond analysis (t=0)\u001B[39;00m\n\u001B[32m    177\u001B[39m timePeriod = [\u001B[32m0\u001B[39m \u001B[38;5;28;01mfor\u001B[39;00m x \u001B[38;5;129;01min\u001B[39;00m \u001B[38;5;28mrange\u001B[39m(numberOfPeriods)]  \u001B[38;5;66;03m# Initialize time period array\u001B[39;00m\n",
      "\u001B[31mIndexError\u001B[39m: index 1 is out of bounds for axis 0 with size 1"
     ]
    }
   ],
   "execution_count": 5
  },
  {
   "metadata": {},
   "cell_type": "markdown",
   "source": "### Extract data without saving to CSV",
   "id": "1eff73cc6701fe63"
  },
  {
   "metadata": {
    "ExecuteTime": {
     "end_time": "2025-09-25T13:43:56.959292Z",
     "start_time": "2025-09-18T12:41:17.377244Z"
    }
   },
   "cell_type": "code",
   "source": [
    "df = extract_tc_data(filename, verbose=False)\n",
    "\n",
    "print(f\"Extracted {len(df)} records\")\n",
    "print(f\"Columns: {list(df.columns)}\")\n",
    "print(f\"Sample data:\")\n",
    "print(df.head())"
   ],
   "id": "b5df800d7104564e",
   "outputs": [
    {
     "name": "stdout",
     "output_type": "stream",
     "text": [
      "Extracted 4163 records\n",
      "Columns: ['storm_id', 'ensemble_member', 'forecast_step_hours', 'datetime', 'significance_code', 'position_type', 'latitude', 'longitude', 'pressure_pa', 'pressure_hpa', 'wind_speed_ms', 'wind_speed_knots', 'wind_threshold_ms', 'wind_threshold_knots', 'bearing_degrees', 'max_radius_km', 'array_index', 'has_wind_radii']\n",
      "Sample data:\n",
      "  storm_id  ensemble_member  forecast_step_hours            datetime  \\\n",
      "0      11E                1                    6 2025-09-10 06:00:00   \n",
      "1      11E                2                    6 2025-09-10 06:00:00   \n",
      "2      11E                3                    6 2025-09-10 06:00:00   \n",
      "3      11E                4                    6 2025-09-10 06:00:00   \n",
      "4      11E                5                    6 2025-09-10 06:00:00   \n",
      "\n",
      "   significance_code      position_type  latitude  longitude  pressure_pa  \\\n",
      "0                  1       storm_center      22.7     -155.7          NaN   \n",
      "1                  4  analysis_position       NaN        NaN          NaN   \n",
      "2                  4  analysis_position       NaN        NaN          NaN   \n",
      "3                  4  analysis_position       NaN        NaN          NaN   \n",
      "4                  4  analysis_position       NaN        NaN          NaN   \n",
      "\n",
      "   pressure_hpa  wind_speed_ms  wind_speed_knots  wind_threshold_ms  \\\n",
      "0           NaN            NaN               NaN               18.0   \n",
      "1           NaN            NaN               NaN                NaN   \n",
      "2           NaN            NaN               NaN                NaN   \n",
      "3           NaN            NaN               NaN                NaN   \n",
      "4           NaN            NaN               NaN                NaN   \n",
      "\n",
      "   wind_threshold_knots  bearing_degrees max_radius_km  array_index  \\\n",
      "0              34.98912              0.0          None            0   \n",
      "1                   NaN              NaN          None            1   \n",
      "2                   NaN              NaN          None            2   \n",
      "3                   NaN              NaN          None            3   \n",
      "4                   NaN              NaN          None            4   \n",
      "\n",
      "   has_wind_radii  \n",
      "0            True  \n",
      "1           False  \n",
      "2           False  \n",
      "3           False  \n",
      "4           False  \n"
     ]
    }
   ],
   "execution_count": 27
  },
  {
   "metadata": {},
   "cell_type": "markdown",
   "source": "## Explore",
   "id": "2e6d1015f0034610"
  },
  {
   "metadata": {
    "ExecuteTime": {
     "end_time": "2025-09-25T13:43:56.961489Z",
     "start_time": "2025-09-18T12:41:17.409995Z"
    }
   },
   "cell_type": "code",
   "source": [
    "from ecmwf_tc_data_explorer import (\n",
    "    create_track_visualization,\n",
    "    create_intensity_plot,\n",
    "    create_wind_field_visualization\n",
    ")"
   ],
   "id": "b168d081ce1d02c",
   "outputs": [],
   "execution_count": 28
  },
  {
   "metadata": {
    "ExecuteTime": {
     "end_time": "2025-09-25T13:43:56.966765Z",
     "start_time": "2025-09-24T20:56:18.851718Z"
    }
   },
   "cell_type": "code",
   "source": [
    "# Load the extracted data\n",
    "csv_file = 'tc_kiko/A_JSXX02ECEP100000_C_ECMP_20250910000000_tropical_cyclone_track_KIKO_-155p7degW_22p7degN_bufr4_extracted.csv'"
   ],
   "id": "c6df52832959ffc9",
   "outputs": [],
   "execution_count": 1
  },
  {
   "metadata": {
    "ExecuteTime": {
     "end_time": "2025-09-25T13:43:56.967861Z",
     "start_time": "2025-09-18T12:41:18.659466Z"
    }
   },
   "cell_type": "code",
   "source": [
    "fig_tracks = create_track_visualization(csv_file)\n",
    "fig_tracks"
   ],
   "id": "5bd848c4aa23136a",
   "outputs": [],
   "execution_count": null
  },
  {
   "metadata": {},
   "cell_type": "code",
   "outputs": [],
   "execution_count": null,
   "source": "fig_wind = create_wind_field_visualization(csv_file)",
   "id": "6afc1396af06dcfa"
  },
  {
   "metadata": {},
   "cell_type": "code",
   "outputs": [],
   "execution_count": null,
   "source": "fig_intensity = create_intensity_plot(csv_file)",
   "id": "67797645d1ae0ac1"
  }
 ],
 "metadata": {
  "kernelspec": {
   "display_name": ".venv",
   "language": "python",
   "name": "python3"
  },
  "language_info": {
   "codemirror_mode": {
    "name": "ipython",
    "version": 3
   },
   "file_extension": ".py",
   "mimetype": "text/x-python",
   "name": "python",
   "nbconvert_exporter": "python",
   "pygments_lexer": "ipython3",
   "version": "3.13.0"
  }
 },
 "nbformat": 4,
 "nbformat_minor": 5
}
