{
 "cells": [
  {
   "cell_type": "markdown",
   "id": "6634a87a",
   "metadata": {},
   "source": "# ECMWF Tropical Cyclone Data Extractor - KIKO Example"
  },
  {
   "cell_type": "markdown",
   "id": "5a93d077",
   "metadata": {},
   "source": [
    "The extractor downloads tropical cyclone track BUFR files from ECMWF's Dissemination (DISS) system at https://essential.ecmwf.int/. It provides dynamic access to forecast data based on date/time parameters."
   ]
  },
  {
   "cell_type": "markdown",
   "id": "8f68eb60",
   "metadata": {},
   "source": [
    "## Download"
   ]
  },
  {
   "cell_type": "code",
   "id": "755e7190",
   "metadata": {
    "ExecuteTime": {
     "end_time": "2025-09-25T08:01:25.683113Z",
     "start_time": "2025-09-25T08:01:25.597435Z"
    }
   },
   "source": [
    "from ecmwf_tc_data_downloader import download_tc_data, list_available_storms"
   ],
   "outputs": [],
   "execution_count": 1
  },
  {
   "cell_type": "markdown",
   "id": "d2d531c4",
   "metadata": {},
   "source": [
    "### List available storms"
   ]
  },
  {
   "cell_type": "code",
   "id": "6ff85008",
   "metadata": {
    "ExecuteTime": {
     "end_time": "2025-09-25T08:01:26.348895Z",
     "start_time": "2025-09-25T08:01:25.686302Z"
    }
   },
   "source": [
    "storms = list_available_storms(limit=1)\n",
    "\n",
    "print(f\"Found {len(storms)} unique storms:\")\n",
    "for i, storm in enumerate(storms, 1):\n",
    "    print(f\"{i:2d}. {storm['storm_name']:8s} at {storm['latitude']:12s}, {storm['longitude']:12s} (Forecast: {storm['forecast_time']})\")"
   ],
   "outputs": [
    {
     "name": "stdout",
     "output_type": "stream",
     "text": [
      "Found 1 forecast dates\n",
      "   Found 61 tropical cyclone track files\n",
      "Found 42 unique storms\n",
      "Found 42 unique storms:\n",
      " 1. GABRIELLE at 35p9degN    , -44degW      (Forecast: 20250925000000)\n",
      " 2. HUMBERTO at 20p5degN    , -55p4degW    (Forecast: 20250925000000)\n",
      " 3. NARDA    at 15p1degN    , -112p7degW   (Forecast: 20250925000000)\n",
      " 4. NEOGURI  at 33p2degN    , 157p4degE    (Forecast: 20250925000000)\n",
      " 5. BUALOI   at 10p8degN    , 129degE      (Forecast: 20250925000000)\n",
      " 6. 70W      at 21p8degN    , 108p8degE    (Forecast: 20250925000000)\n",
      " 7. 71W      at 10p9degN    , 128p9degE    (Forecast: 20250925000000)\n",
      " 8. 72W      at 32p2degN    , 157p2degE    (Forecast: 20250925000000)\n",
      " 9. 73W      at 30p6degN    , 121p6degE    (Forecast: 20250925000000)\n",
      "10. 74W      at 16p4degN    , 150p7degE    (Forecast: 20250925000000)\n",
      "11. 75W      at 34p9degN    , 123p3degE    (Forecast: 20250925000000)\n",
      "12. 76W      at 17p3degN    , 128p8degE    (Forecast: 20250925000000)\n",
      "13. 77W      at 33p2degN    , 126p4degE    (Forecast: 20250925000000)\n",
      "14. 79W      at 22p7degN    , 153p4degE    (Forecast: 20250925000000)\n",
      "15. 70E      at 15p5degN    , -113degW     (Forecast: 20250925000000)\n",
      "16. 72E      at 7p9degN     , -111p4degW   (Forecast: 20250925000000)\n",
      "17. 73E      at 10p7degN    , -92p7degW    (Forecast: 20250925000000)\n",
      "18. 74E      at 13p3degN    , -95p3degW    (Forecast: 20250925000000)\n",
      "19. 75E      at 7p7degN     , -134p4degW   (Forecast: 20250925000000)\n",
      "20. 76E      at 13p6degN    , -117degW     (Forecast: 20250925000000)\n",
      "21. 77E      at 12p6degN    , -91p9degW    (Forecast: 20250925000000)\n",
      "22. 78E      at 12p1degN    , -100p2degW   (Forecast: 20250925000000)\n",
      "23. 71L      at 35p1degN    , -44p5degW    (Forecast: 20250925000000)\n",
      "24. 72L      at 5p4degN     , -71p5degW    (Forecast: 20250925000000)\n",
      "25. 73L      at 18p1degN    , -70p4degW    (Forecast: 20250925000000)\n",
      "26. 74L      at 9p8degN     , -38p2degW    (Forecast: 20250925000000)\n",
      "27. 75L      at 13p3degN    , -15p9degW    (Forecast: 20250925000000)\n",
      "28. 76L      at 20p6degN    , -93degW      (Forecast: 20250925000000)\n",
      "29. 77L      at 21p5degN    , -82p9degW    (Forecast: 20250925000000)\n",
      "30. 78L      at 23p1degN    , -71p7degW    (Forecast: 20250925000000)\n",
      "31. 70C      at 9p3degN     , -150p3degW   (Forecast: 20250925000000)\n",
      "32. 71C      at 7p3degN     , -156p4degW   (Forecast: 20250925000000)\n",
      "33. 72C      at 8p2degN     , -171p8degW   (Forecast: 20250925000000)\n",
      "34. 70A      at 19p9degN    , 71p1degE     (Forecast: 20250925000000)\n",
      "35. 71A      at 26p8degN    , 55p1degE     (Forecast: 20250925000000)\n",
      "36. 72A      at 19p5degN    , 72p3degE     (Forecast: 20250925000000)\n",
      "37. 73A      at 24p7degN    , 60p5degE     (Forecast: 20250925000000)\n",
      "38. 70B      at 19p4degN    , 81p3degE     (Forecast: 20250925000000)\n",
      "39. 71B      at 17p9degN    , 91p4degE     (Forecast: 20250925000000)\n",
      "40. 72B      at 15p6degN    , 84p5degE     (Forecast: 20250925000000)\n",
      "41. 73B      at 18p6degN    , 84p6degE     (Forecast: 20250925000000)\n",
      "42. 74B      at 19p5degN    , 93degE       (Forecast: 20250925000000)\n"
     ]
    }
   ],
   "execution_count": 2
  },
  {
   "cell_type": "markdown",
   "id": "5b08aee5",
   "metadata": {},
   "source": [
    "### Download latest forecasts"
   ]
  },
  {
   "metadata": {
    "ExecuteTime": {
     "end_time": "2025-09-25T08:01:30.557796Z",
     "start_time": "2025-09-25T08:01:26.355613Z"
    }
   },
   "cell_type": "code",
   "source": "results = download_tc_data(limit=1, start_date='20250910', end_date='20250910', storm_name='KIKO', output_dir='tc_kiko')",
   "id": "7293eaef1e7ee861",
   "outputs": [
    {
     "name": "stdout",
     "output_type": "stream",
     "text": [
      "Found 121 forecast dates\n",
      "Processing 4 forecast(s)\n",
      "Filtering for storm: KIKO\n",
      "\n",
      "   Found 2 tropical cyclone track files\n",
      "   Storm: KIKO at 22p9degN, -158p1degW\n",
      "   Downloaded: A_JSXX02ECEP101800_C_ECMP_20250910180000_tropical_cyclone_track_KIKO_-158p1degW_22p9degN_bufr4.bin (11,508 bytes)\n",
      "   Downloaded: A_JSXX02ECMF101800_C_ECMP_20250910180000_tropical_cyclone_track_KIKO_-158p1degW_22p9degN_bufr4.bin (214 bytes)\n",
      "\n",
      "   Found 2 tropical cyclone track files\n",
      "   Storm: KIKO at 22p7degN, -157p5degW\n",
      "   Downloaded: A_JSXX02ECEP101200_C_ECMP_20250910120000_tropical_cyclone_track_KIKO_-157p5degW_22p7degN_bufr4.bin (8,877 bytes)\n",
      "   Downloaded: A_JSXX02ECMF101200_C_ECMP_20250910120000_tropical_cyclone_track_KIKO_-157p5degW_22p7degN_bufr4.bin (214 bytes)\n",
      "\n",
      "   Found 2 tropical cyclone track files\n",
      "   Storm: KIKO at 22p4degN, -156p5degW\n",
      "   Downloaded: A_JSXX02ECEP100600_C_ECMP_20250910060000_tropical_cyclone_track_KIKO_-156p5degW_22p4degN_bufr4.bin (8,004 bytes)\n",
      "   Downloaded: A_JSXX02ECMF100600_C_ECMP_20250910060000_tropical_cyclone_track_KIKO_-156p5degW_22p4degN_bufr4.bin (214 bytes)\n",
      "\n",
      "   Found 2 tropical cyclone track files\n",
      "   Storm: KIKO at 22p7degN, -155p7degW\n",
      "   Downloaded: A_JSXX02ECEP100000_C_ECMP_20250910000000_tropical_cyclone_track_KIKO_-155p7degW_22p7degN_bufr4.bin (25,289 bytes)\n",
      "   Downloaded: A_JSXX02ECMF100000_C_ECMP_20250910000000_tropical_cyclone_track_KIKO_-155p7degW_22p7degN_bufr4.bin (214 bytes)\n",
      "\n",
      "==================================================\n",
      "Summary:\n",
      "   Successfully downloaded: 8 files\n",
      "   Failed downloads: 0 files\n",
      "   Files saved to: tc_kiko/\n"
     ]
    }
   ],
   "execution_count": 3
  },
  {
   "metadata": {},
   "cell_type": "markdown",
   "source": "## Extract",
   "id": "7677d8fdc5f8c021"
  },
  {
   "metadata": {
    "ExecuteTime": {
     "end_time": "2025-09-25T08:01:30.930360Z",
     "start_time": "2025-09-25T08:01:30.602430Z"
    }
   },
   "cell_type": "code",
   "source": "from ecmwf_tc_data_extractor import extract_tc_data, extract_tc_data_from_file",
   "id": "d947daee521a3c37",
   "outputs": [],
   "execution_count": 4
  },
  {
   "metadata": {
    "ExecuteTime": {
     "end_time": "2025-09-25T08:07:18.645598Z",
     "start_time": "2025-09-25T08:07:18.605351Z"
    }
   },
   "cell_type": "code",
   "source": [
    "# Extract data from the downloaded KIKO storm file\n",
    "filename = 'tc_kiko/A_JSXX02ECEP101200_C_ECMP_20250910120000_tropical_cyclone_track_KIKO_-157p5degW_22p7degN_bufr4.bin'\n",
    "\n",
    "# Extract using the main function (saves to CSV automatically)\n",
    "result = extract_tc_data_from_file(filename, output_dir='tc_kiko')"
   ],
   "id": "a98e7a9a471fa85f",
   "outputs": [
    {
     "name": "stdout",
     "output_type": "stream",
     "text": [
      "Extracting tropical cyclone data from: tc_kiko/A_JSXX02ECEP101200_C_ECMP_20250910120000_tropical_cyclone_track_KIKO_-157p5degW_22p7degN_bufr4.bin\n",
      "**************** MESSAGE:  1   *****************\n",
      "Date and time:  10 . 9 . 2025    12 : 0\n",
      "Storm identifier:  11E\n",
      "Number of Ensemble Members:  52\n"
     ]
    },
    {
     "ename": "IndexError",
     "evalue": "index 1 is out of bounds for axis 0 with size 1",
     "output_type": "error",
     "traceback": [
      "\u001B[31m---------------------------------------------------------------------------\u001B[39m",
      "\u001B[31mIndexError\u001B[39m                                Traceback (most recent call last)",
      "\u001B[36mCell\u001B[39m\u001B[36m \u001B[39m\u001B[32mIn[10]\u001B[39m\u001B[32m, line 5\u001B[39m\n\u001B[32m      2\u001B[39m filename = \u001B[33m'\u001B[39m\u001B[33mtc_kiko/A_JSXX02ECEP101200_C_ECMP_20250910120000_tropical_cyclone_track_KIKO_-157p5degW_22p7degN_bufr4.bin\u001B[39m\u001B[33m'\u001B[39m\n\u001B[32m      4\u001B[39m \u001B[38;5;66;03m# Extract using the main function (saves to CSV automatically)\u001B[39;00m\n\u001B[32m----> \u001B[39m\u001B[32m5\u001B[39m result = \u001B[43mextract_tc_data_from_file\u001B[49m\u001B[43m(\u001B[49m\u001B[43mfilename\u001B[49m\u001B[43m,\u001B[49m\u001B[43m \u001B[49m\u001B[43moutput_dir\u001B[49m\u001B[43m=\u001B[49m\u001B[33;43m'\u001B[39;49m\u001B[33;43mtc_kiko\u001B[39;49m\u001B[33;43m'\u001B[39;49m\u001B[43m)\u001B[49m\n",
      "\u001B[36mFile \u001B[39m\u001B[32m~/Library/CloudStorage/OneDrive-Personal/UNICEF/TC-Forecasts-ECMWF/ecmwf_tc_data_extractor.py:415\u001B[39m, in \u001B[36mextract_tc_data_from_file\u001B[39m\u001B[34m(filename, output_dir, verbose)\u001B[39m\n\u001B[32m    412\u001B[39m     \u001B[38;5;28mprint\u001B[39m(\u001B[33mf\u001B[39m\u001B[33m\"\u001B[39m\u001B[33mExtracting tropical cyclone data from: \u001B[39m\u001B[38;5;132;01m{\u001B[39;00mfilename\u001B[38;5;132;01m}\u001B[39;00m\u001B[33m\"\u001B[39m)\n\u001B[32m    414\u001B[39m \u001B[38;5;66;03m# Extract data\u001B[39;00m\n\u001B[32m--> \u001B[39m\u001B[32m415\u001B[39m df = \u001B[43mextract_tc_data\u001B[49m\u001B[43m(\u001B[49m\u001B[43mfilename\u001B[49m\u001B[43m,\u001B[49m\u001B[43m \u001B[49m\u001B[43mverbose\u001B[49m\u001B[43m=\u001B[49m\u001B[43mverbose\u001B[49m\u001B[43m)\u001B[49m\n\u001B[32m    417\u001B[39m \u001B[38;5;28;01mif\u001B[39;00m df.empty:\n\u001B[32m    418\u001B[39m     \u001B[38;5;28;01mif\u001B[39;00m verbose:\n",
      "\u001B[36mFile \u001B[39m\u001B[32m~/Library/CloudStorage/OneDrive-Personal/UNICEF/TC-Forecasts-ECMWF/ecmwf_tc_data_extractor.py:170\u001B[39m, in \u001B[36mextract_tc_data\u001B[39m\u001B[34m(filename, verbose)\u001B[39m\n\u001B[32m    164\u001B[39m \u001B[38;5;28;01melse\u001B[39;00m:\n\u001B[32m    165\u001B[39m     \u001B[38;5;66;03m# Analysis position is the same for all members, but pressure/wind may vary\u001B[39;00m\n\u001B[32m    166\u001B[39m     \u001B[38;5;28;01mfor\u001B[39;00m k \u001B[38;5;129;01min\u001B[39;00m \u001B[38;5;28mrange\u001B[39m(\u001B[38;5;28mlen\u001B[39m(memberNumber)):\n\u001B[32m    167\u001B[39m         data[k][\u001B[32m0\u001B[39m] = [\n\u001B[32m    168\u001B[39m             latitudeAnalysis[\u001B[32m0\u001B[39m],      \u001B[38;5;66;03m# Same storm center lat for all\u001B[39;00m\n\u001B[32m    169\u001B[39m             longitudeAnalysis[\u001B[32m0\u001B[39m],     \u001B[38;5;66;03m# Same storm center lon for all\u001B[39;00m\n\u001B[32m--> \u001B[39m\u001B[32m170\u001B[39m             \u001B[43mpressureAnalysis\u001B[49m\u001B[43m[\u001B[49m\u001B[43mk\u001B[49m\u001B[43m]\u001B[49m,      \u001B[38;5;66;03m# Member-specific pressure\u001B[39;00m\n\u001B[32m    171\u001B[39m             latitudeMaxWind0[\u001B[32m0\u001B[39m],      \u001B[38;5;66;03m# Same max wind lat for all\u001B[39;00m\n\u001B[32m    172\u001B[39m             longitudeMaxWind0[\u001B[32m0\u001B[39m],     \u001B[38;5;66;03m# Same max wind lon for all\u001B[39;00m\n\u001B[32m    173\u001B[39m             windMaxWind0[k]           \u001B[38;5;66;03m# Member-specific wind speed\u001B[39;00m\n\u001B[32m    174\u001B[39m         ]\n\u001B[32m    176\u001B[39m \u001B[38;5;66;03m# Process forecast data for each time period beyond analysis (t=0)\u001B[39;00m\n\u001B[32m    177\u001B[39m timePeriod = [\u001B[32m0\u001B[39m \u001B[38;5;28;01mfor\u001B[39;00m x \u001B[38;5;129;01min\u001B[39;00m \u001B[38;5;28mrange\u001B[39m(numberOfPeriods)]  \u001B[38;5;66;03m# Initialize time period array\u001B[39;00m\n",
      "\u001B[31mIndexError\u001B[39m: index 1 is out of bounds for axis 0 with size 1"
     ]
    }
   ],
   "execution_count": 10
  },
  {
   "metadata": {},
   "cell_type": "markdown",
   "source": "### Extract data without saving to CSV",
   "id": "1eff73cc6701fe63"
  },
  {
   "metadata": {
    "ExecuteTime": {
     "end_time": "2025-09-25T08:01:31.084031Z",
     "start_time": "2025-09-18T12:41:17.377244Z"
    }
   },
   "cell_type": "code",
   "source": [
    "df = extract_tc_data(filename, verbose=False)\n",
    "\n",
    "print(f\"Extracted {len(df)} records\")\n",
    "print(f\"Columns: {list(df.columns)}\")\n",
    "print(f\"Sample data:\")\n",
    "print(df.head())"
   ],
   "id": "b5df800d7104564e",
   "outputs": [
    {
     "name": "stdout",
     "output_type": "stream",
     "text": [
      "Extracted 4163 records\n",
      "Columns: ['storm_id', 'ensemble_member', 'forecast_step_hours', 'datetime', 'significance_code', 'position_type', 'latitude', 'longitude', 'pressure_pa', 'pressure_hpa', 'wind_speed_ms', 'wind_speed_knots', 'wind_threshold_ms', 'wind_threshold_knots', 'bearing_degrees', 'max_radius_km', 'array_index', 'has_wind_radii']\n",
      "Sample data:\n",
      "  storm_id  ensemble_member  forecast_step_hours            datetime  \\\n",
      "0      11E                1                    6 2025-09-10 06:00:00   \n",
      "1      11E                2                    6 2025-09-10 06:00:00   \n",
      "2      11E                3                    6 2025-09-10 06:00:00   \n",
      "3      11E                4                    6 2025-09-10 06:00:00   \n",
      "4      11E                5                    6 2025-09-10 06:00:00   \n",
      "\n",
      "   significance_code      position_type  latitude  longitude  pressure_pa  \\\n",
      "0                  1       storm_center      22.7     -155.7          NaN   \n",
      "1                  4  analysis_position       NaN        NaN          NaN   \n",
      "2                  4  analysis_position       NaN        NaN          NaN   \n",
      "3                  4  analysis_position       NaN        NaN          NaN   \n",
      "4                  4  analysis_position       NaN        NaN          NaN   \n",
      "\n",
      "   pressure_hpa  wind_speed_ms  wind_speed_knots  wind_threshold_ms  \\\n",
      "0           NaN            NaN               NaN               18.0   \n",
      "1           NaN            NaN               NaN                NaN   \n",
      "2           NaN            NaN               NaN                NaN   \n",
      "3           NaN            NaN               NaN                NaN   \n",
      "4           NaN            NaN               NaN                NaN   \n",
      "\n",
      "   wind_threshold_knots  bearing_degrees max_radius_km  array_index  \\\n",
      "0              34.98912              0.0          None            0   \n",
      "1                   NaN              NaN          None            1   \n",
      "2                   NaN              NaN          None            2   \n",
      "3                   NaN              NaN          None            3   \n",
      "4                   NaN              NaN          None            4   \n",
      "\n",
      "   has_wind_radii  \n",
      "0            True  \n",
      "1           False  \n",
      "2           False  \n",
      "3           False  \n",
      "4           False  \n"
     ]
    }
   ],
   "execution_count": 27
  },
  {
   "metadata": {},
   "cell_type": "markdown",
   "source": "## Explore",
   "id": "2e6d1015f0034610"
  },
  {
   "metadata": {
    "ExecuteTime": {
     "end_time": "2025-09-25T08:01:31.084285Z",
     "start_time": "2025-09-18T12:41:17.409995Z"
    }
   },
   "cell_type": "code",
   "source": [
    "from ecmwf_tc_data_explorer import (\n",
    "    create_track_visualization,\n",
    "    create_intensity_plot,\n",
    "    create_wind_field_visualization\n",
    ")"
   ],
   "id": "b168d081ce1d02c",
   "outputs": [],
   "execution_count": 28
  },
  {
   "metadata": {
    "ExecuteTime": {
     "end_time": "2025-09-25T08:01:31.084412Z",
     "start_time": "2025-09-24T20:56:18.851718Z"
    }
   },
   "cell_type": "code",
   "source": [
    "# Load the extracted data\n",
    "csv_file = 'tc_kiko/A_JSXX02ECEP100000_C_ECMP_20250910000000_tropical_cyclone_track_KIKO_-155p7degW_22p7degN_bufr4_extracted.csv'"
   ],
   "id": "c6df52832959ffc9",
   "outputs": [],
   "execution_count": 1
  },
  {
   "metadata": {
    "ExecuteTime": {
     "end_time": "2025-09-25T08:01:31.084528Z",
     "start_time": "2025-09-18T12:41:18.659466Z"
    }
   },
   "cell_type": "code",
   "source": [
    "fig_tracks = create_track_visualization(csv_file)\n",
    "fig_tracks"
   ],
   "id": "5bd848c4aa23136a",
   "outputs": [],
   "execution_count": null
  },
  {
   "metadata": {},
   "cell_type": "code",
   "outputs": [],
   "execution_count": null,
   "source": "fig_wind = create_wind_field_visualization(csv_file)",
   "id": "6afc1396af06dcfa"
  },
  {
   "metadata": {},
   "cell_type": "code",
   "outputs": [],
   "execution_count": null,
   "source": "fig_intensity = create_intensity_plot(csv_file)",
   "id": "67797645d1ae0ac1"
  }
 ],
 "metadata": {
  "kernelspec": {
   "display_name": ".venv",
   "language": "python",
   "name": "python3"
  },
  "language_info": {
   "codemirror_mode": {
    "name": "ipython",
    "version": 3
   },
   "file_extension": ".py",
   "mimetype": "text/x-python",
   "name": "python",
   "nbconvert_exporter": "python",
   "pygments_lexer": "ipython3",
   "version": "3.13.0"
  }
 },
 "nbformat": 4,
 "nbformat_minor": 5
}
