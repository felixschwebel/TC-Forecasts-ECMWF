{
 "cells": [
  {
   "cell_type": "markdown",
   "id": "6634a87a",
   "metadata": {},
   "source": "# ECMWF Tropical Cyclone Data Extractor - KIKO Example"
  },
  {
   "cell_type": "markdown",
   "id": "5a93d077",
   "metadata": {},
   "source": [
    "The extractor downloads tropical cyclone track BUFR files from ECMWF's Dissemination (DISS) system at https://essential.ecmwf.int/. It provides dynamic access to forecast data based on date/time parameters."
   ]
  },
  {
   "cell_type": "markdown",
   "id": "8f68eb60",
   "metadata": {},
   "source": [
    "## Download"
   ]
  },
  {
   "cell_type": "code",
   "id": "755e7190",
   "metadata": {
    "ExecuteTime": {
     "end_time": "2025-09-24T20:58:05.308391Z",
     "start_time": "2025-09-24T20:58:05.213186Z"
    }
   },
   "source": [
    "from ecmwf_tc_data_downloader import download_tc_data, list_available_storms"
   ],
   "outputs": [],
   "execution_count": 1
  },
  {
   "cell_type": "markdown",
   "id": "d2d531c4",
   "metadata": {},
   "source": [
    "### List available storms"
   ]
  },
  {
   "cell_type": "code",
   "id": "6ff85008",
   "metadata": {
    "ExecuteTime": {
     "end_time": "2025-09-24T20:58:06.053325Z",
     "start_time": "2025-09-24T20:58:05.311621Z"
    }
   },
   "source": [
    "storms = list_available_storms(limit=1)\n",
    "\n",
    "print(f\"Found {len(storms)} unique storms:\")\n",
    "for i, storm in enumerate(storms, 1):\n",
    "    print(f\"{i:2d}. {storm['storm_name']:8s} at {storm['latitude']:12s}, {storm['longitude']:12s} (Forecast: {storm['forecast_time']})\")"
   ],
   "outputs": [
    {
     "name": "stdout",
     "output_type": "stream",
     "text": [
      "Found 1 forecast dates\n",
      "   Found 59 tropical cyclone track files\n",
      "Found 42 unique storms\n",
      "Found 42 unique storms:\n",
      " 1. GABRIELLE at 35p8degN    , -50p2degW    (Forecast: 20250924120000)\n",
      " 2. NARDA    at 15p1degN    , -111p1degW   (Forecast: 20250924120000)\n",
      " 3. RAGASA   at 21p7degN    , 111p1degE    (Forecast: 20250924120000)\n",
      " 4. NEOGURI  at 31p3degN    , 156p4degE    (Forecast: 20250924120000)\n",
      " 5. BUALOI   at 10p3degN    , 131p3degE    (Forecast: 20250924120000)\n",
      " 6. 70W      at 21p6degN    , 111p3degE    (Forecast: 20250924120000)\n",
      " 7. 71W      at 10p1degN    , 131p2degE    (Forecast: 20250924120000)\n",
      " 8. 72W      at 30p5degN    , 156p3degE    (Forecast: 20250924120000)\n",
      " 9. 73W      at 37p4degN    , 162p3degE    (Forecast: 20250924120000)\n",
      "10. 75W      at 31p1degN    , 118p4degE    (Forecast: 20250924120000)\n",
      "11. 76W      at 12p5degN    , 162p4degE    (Forecast: 20250924120000)\n",
      "12. 77W      at 32p9degN    , 121p7degE    (Forecast: 20250924120000)\n",
      "13. 78W      at 17p2degN    , 114p7degE    (Forecast: 20250924120000)\n",
      "14. 79W      at 6p9degN     , 173p4degE    (Forecast: 20250924120000)\n",
      "15. 80W      at 32p7degN    , 125degE      (Forecast: 20250924120000)\n",
      "16. 81W      at 29p5degN    , 122p1degE    (Forecast: 20250924120000)\n",
      "17. 70E      at 15p2degN    , -111p1degW   (Forecast: 20250924120000)\n",
      "18. 71E      at 9p9degN     , -114degW     (Forecast: 20250924120000)\n",
      "19. 72E      at 15p2degN    , -107degW     (Forecast: 20250924120000)\n",
      "20. 73E      at 12p4degN    , -91degW      (Forecast: 20250924120000)\n",
      "21. 74E      at 12p6degN    , -90degW      (Forecast: 20250924120000)\n",
      "22. 75E      at 10p7degN    , -94p2degW    (Forecast: 20250924120000)\n",
      "23. 70L      at 10p4degN    , -76p5degW    (Forecast: 20250924120000)\n",
      "24. 71L      at 19p5degN    , -54p3degW    (Forecast: 20250924120000)\n",
      "25. 72L      at 35p4degN    , -50p5degW    (Forecast: 20250924120000)\n",
      "26. 73L      at 18p1degN    , -67p6degW    (Forecast: 20250924120000)\n",
      "27. 74L      at 10p5degN    , -15p4degW    (Forecast: 20250924120000)\n",
      "28. 75L      at 10p5degN    , -76p5degW    (Forecast: 20250924120000)\n",
      "29. 76L      at 11p3degN    , -76p8degW    (Forecast: 20250924120000)\n",
      "30. 77L      at 10p4degN    , -24p2degW    (Forecast: 20250924120000)\n",
      "31. 78L      at 10p2degN    , -9p8degW     (Forecast: 20250924120000)\n",
      "32. 79L      at 29p2degN    , -54degW      (Forecast: 20250924120000)\n",
      "33. 70C      at 7p2degN     , -156p4degW   (Forecast: 20250924120000)\n",
      "34. 71C      at 10p5degN    , -163p5degW   (Forecast: 20250924120000)\n",
      "35. 70A      at 20p6degN    , 72p8degE     (Forecast: 20250924120000)\n",
      "36. 71A      at 19p7degN    , 71p5degE     (Forecast: 20250924120000)\n",
      "37. 72A      at 19p9degN    , 71p7degE     (Forecast: 20250924120000)\n",
      "38. 70B      at 18p8degN    , 89p7degE     (Forecast: 20250924120000)\n",
      "39. 71B      at 19p5degN    , 88p8degE     (Forecast: 20250924120000)\n",
      "40. 72B      at 18p7degN    , 85p2degE     (Forecast: 20250924120000)\n",
      "41. 73B      at 20p9degN    , 90p2degE     (Forecast: 20250924120000)\n",
      "42. 74B      at 18p5degN    , 90p1degE     (Forecast: 20250924120000)\n"
     ]
    }
   ],
   "execution_count": 2
  },
  {
   "cell_type": "markdown",
   "id": "5b08aee5",
   "metadata": {},
   "source": [
    "### Download latest forecasts"
   ]
  },
  {
   "metadata": {
    "ExecuteTime": {
     "end_time": "2025-09-24T20:58:10.256919Z",
     "start_time": "2025-09-24T20:58:06.056891Z"
    }
   },
   "cell_type": "code",
   "source": "results = download_tc_data(limit=1, start_date='20250910', end_date='20250910', storm_name='KIKO', output_dir='tc_kiko')",
   "id": "7293eaef1e7ee861",
   "outputs": [
    {
     "name": "stdout",
     "output_type": "stream",
     "text": [
      "Found 121 forecast dates\n",
      "Processing 4 forecast(s)\n",
      "Filtering for storm: KIKO\n",
      "\n",
      "   Found 2 tropical cyclone track files\n",
      "   Storm: KIKO at 22p9degN, -158p1degW\n",
      "   Downloaded: A_JSXX02ECEP101800_C_ECMP_20250910180000_tropical_cyclone_track_KIKO_-158p1degW_22p9degN_bufr4.bin (11,508 bytes)\n",
      "   Downloaded: A_JSXX02ECMF101800_C_ECMP_20250910180000_tropical_cyclone_track_KIKO_-158p1degW_22p9degN_bufr4.bin (214 bytes)\n",
      "\n",
      "   Found 2 tropical cyclone track files\n",
      "   Storm: KIKO at 22p7degN, -157p5degW\n",
      "   Downloaded: A_JSXX02ECEP101200_C_ECMP_20250910120000_tropical_cyclone_track_KIKO_-157p5degW_22p7degN_bufr4.bin (8,877 bytes)\n",
      "   Downloaded: A_JSXX02ECMF101200_C_ECMP_20250910120000_tropical_cyclone_track_KIKO_-157p5degW_22p7degN_bufr4.bin (214 bytes)\n",
      "\n",
      "   Found 2 tropical cyclone track files\n",
      "   Storm: KIKO at 22p4degN, -156p5degW\n",
      "   Downloaded: A_JSXX02ECEP100600_C_ECMP_20250910060000_tropical_cyclone_track_KIKO_-156p5degW_22p4degN_bufr4.bin (8,004 bytes)\n",
      "   Downloaded: A_JSXX02ECMF100600_C_ECMP_20250910060000_tropical_cyclone_track_KIKO_-156p5degW_22p4degN_bufr4.bin (214 bytes)\n",
      "\n",
      "   Found 2 tropical cyclone track files\n",
      "   Storm: KIKO at 22p7degN, -155p7degW\n",
      "   Downloaded: A_JSXX02ECEP100000_C_ECMP_20250910000000_tropical_cyclone_track_KIKO_-155p7degW_22p7degN_bufr4.bin (25,289 bytes)\n",
      "   Downloaded: A_JSXX02ECMF100000_C_ECMP_20250910000000_tropical_cyclone_track_KIKO_-155p7degW_22p7degN_bufr4.bin (214 bytes)\n",
      "\n",
      "==================================================\n",
      "Summary:\n",
      "   Successfully downloaded: 8 files\n",
      "   Failed downloads: 0 files\n",
      "   Files saved to: tc_kiko/\n"
     ]
    }
   ],
   "execution_count": 3
  },
  {
   "metadata": {},
   "cell_type": "markdown",
   "source": "## Extract",
   "id": "7677d8fdc5f8c021"
  },
  {
   "metadata": {
    "ExecuteTime": {
     "end_time": "2025-09-24T20:58:10.600911Z",
     "start_time": "2025-09-24T20:58:10.296728Z"
    }
   },
   "cell_type": "code",
   "source": "from ecmwf_tc_data_extractor import extract_tc_data, extract_tc_data_from_file",
   "id": "d947daee521a3c37",
   "outputs": [],
   "execution_count": 4
  },
  {
   "metadata": {
    "ExecuteTime": {
     "end_time": "2025-09-24T20:58:10.756093Z",
     "start_time": "2025-09-24T20:58:10.605964Z"
    }
   },
   "cell_type": "code",
   "source": [
    "# Extract data from the downloaded KIKO storm file\n",
    "filename = 'tc_kiko/A_JSXX02ECEP100000_C_ECMP_20250910000000_tropical_cyclone_track_KIKO_-155p7degW_22p7degN_bufr4.bin'\n",
    "\n",
    "# Extract using the main function (saves to CSV automatically)\n",
    "result = extract_tc_data_from_file(filename, output_dir='tc_kiko')"
   ],
   "id": "a98e7a9a471fa85f",
   "outputs": [
    {
     "name": "stdout",
     "output_type": "stream",
     "text": [
      "Extracting tropical cyclone data from: tc_kiko/A_JSXX02ECEP100000_C_ECMP_20250910000000_tropical_cyclone_track_KIKO_-155p7degW_22p7degN_bufr4.bin\n",
      "**************** MESSAGE:  1   *****************\n",
      "Date and time:  10 . 9 . 2025    0 : 0\n",
      "Storm identifier:  11E\n",
      "Number of Ensemble Members:  52\n"
     ]
    },
    {
     "ename": "IndexError",
     "evalue": "index 1 is out of bounds for axis 0 with size 1",
     "output_type": "error",
     "traceback": [
      "\u001B[31m---------------------------------------------------------------------------\u001B[39m",
      "\u001B[31mIndexError\u001B[39m                                Traceback (most recent call last)",
      "\u001B[36mCell\u001B[39m\u001B[36m \u001B[39m\u001B[32mIn[5]\u001B[39m\u001B[32m, line 5\u001B[39m\n\u001B[32m      2\u001B[39m filename = \u001B[33m'\u001B[39m\u001B[33mtc_kiko/A_JSXX02ECEP100000_C_ECMP_20250910000000_tropical_cyclone_track_KIKO_-155p7degW_22p7degN_bufr4.bin\u001B[39m\u001B[33m'\u001B[39m\n\u001B[32m      4\u001B[39m \u001B[38;5;66;03m# Extract using the main function (saves to CSV automatically)\u001B[39;00m\n\u001B[32m----> \u001B[39m\u001B[32m5\u001B[39m result = \u001B[43mextract_tc_data_from_file\u001B[49m\u001B[43m(\u001B[49m\u001B[43mfilename\u001B[49m\u001B[43m,\u001B[49m\u001B[43m \u001B[49m\u001B[43moutput_dir\u001B[49m\u001B[43m=\u001B[49m\u001B[33;43m'\u001B[39;49m\u001B[33;43mtc_kiko\u001B[39;49m\u001B[33;43m'\u001B[39;49m\u001B[43m)\u001B[49m\n",
      "\u001B[36mFile \u001B[39m\u001B[32m~/Library/CloudStorage/OneDrive-Personal/UNICEF/TC-Forecasts-ECMWF/ecmwf_tc_data_extractor.py:415\u001B[39m, in \u001B[36mextract_tc_data_from_file\u001B[39m\u001B[34m(filename, output_dir, verbose)\u001B[39m\n\u001B[32m    412\u001B[39m     \u001B[38;5;28mprint\u001B[39m(\u001B[33mf\u001B[39m\u001B[33m\"\u001B[39m\u001B[33mExtracting tropical cyclone data from: \u001B[39m\u001B[38;5;132;01m{\u001B[39;00mfilename\u001B[38;5;132;01m}\u001B[39;00m\u001B[33m\"\u001B[39m)\n\u001B[32m    414\u001B[39m \u001B[38;5;66;03m# Extract data\u001B[39;00m\n\u001B[32m--> \u001B[39m\u001B[32m415\u001B[39m df = \u001B[43mextract_tc_data\u001B[49m\u001B[43m(\u001B[49m\u001B[43mfilename\u001B[49m\u001B[43m,\u001B[49m\u001B[43m \u001B[49m\u001B[43mverbose\u001B[49m\u001B[43m=\u001B[49m\u001B[43mverbose\u001B[49m\u001B[43m)\u001B[49m\n\u001B[32m    417\u001B[39m \u001B[38;5;28;01mif\u001B[39;00m df.empty:\n\u001B[32m    418\u001B[39m     \u001B[38;5;28;01mif\u001B[39;00m verbose:\n",
      "\u001B[36mFile \u001B[39m\u001B[32m~/Library/CloudStorage/OneDrive-Personal/UNICEF/TC-Forecasts-ECMWF/ecmwf_tc_data_extractor.py:250\u001B[39m, in \u001B[36mextract_tc_data\u001B[39m\u001B[34m(filename, verbose)\u001B[39m\n\u001B[32m    247\u001B[39m     \u001B[38;5;66;03m# Store forecast data for all ensemble members at this time step\u001B[39;00m\n\u001B[32m    248\u001B[39m     \u001B[38;5;28;01mfor\u001B[39;00m k \u001B[38;5;129;01min\u001B[39;00m \u001B[38;5;28mrange\u001B[39m(\u001B[38;5;28mlen\u001B[39m(memberNumber)):\n\u001B[32m    249\u001B[39m         data[k][i] = [\n\u001B[32m--> \u001B[39m\u001B[32m250\u001B[39m             \u001B[43mlat\u001B[49m\u001B[43m[\u001B[49m\u001B[43mk\u001B[49m\u001B[43m]\u001B[49m,      \u001B[38;5;66;03m# Storm center latitude\u001B[39;00m\n\u001B[32m    251\u001B[39m             lon[k],      \u001B[38;5;66;03m# Storm center longitude\u001B[39;00m\n\u001B[32m    252\u001B[39m             press[k],    \u001B[38;5;66;03m# Storm center pressure\u001B[39;00m\n\u001B[32m    253\u001B[39m             latWind[k],  \u001B[38;5;66;03m# Maximum wind latitude\u001B[39;00m\n\u001B[32m    254\u001B[39m             lonWind[k],  \u001B[38;5;66;03m# Maximum wind longitude\u001B[39;00m\n\u001B[32m    255\u001B[39m             wind10m[k]   \u001B[38;5;66;03m# Maximum wind speed\u001B[39;00m\n\u001B[32m    256\u001B[39m         ]\n\u001B[32m    259\u001B[39m \u001B[38;5;66;03m# *************************************************************************************************\u001B[39;00m\n\u001B[32m    260\u001B[39m \u001B[38;5;66;03m# EXTRACT WIND RADII DATA\u001B[39;00m\n\u001B[32m    261\u001B[39m \u001B[38;5;66;03m# Tropical Cyclone Wind Radii product\u001B[39;00m\n\u001B[32m   (...)\u001B[39m\u001B[32m    264\u001B[39m \u001B[38;5;66;03m# 5021 - bearingOrAzimuth [deg], two values to define the quadrant limits, e.g. 0 and 90 for quadrant 1\u001B[39;00m\n\u001B[32m    265\u001B[39m \u001B[38;5;66;03m# 19004 - effectiveRadiusWithRespectToWindSpeedsAboveThreshold [m], maximum radius at which wind speeds exceed the given threshold within the given quadrant\u001B[39;00m\n\u001B[32m    267\u001B[39m windSpeedThreshold = codes_get_array(bufr, \u001B[33m'\u001B[39m\u001B[33mwindSpeedThreshold\u001B[39m\u001B[33m'\u001B[39m)\n",
      "\u001B[31mIndexError\u001B[39m: index 1 is out of bounds for axis 0 with size 1"
     ]
    }
   ],
   "execution_count": 5
  },
  {
   "metadata": {},
   "cell_type": "markdown",
   "source": "### Extract data without saving to CSV",
   "id": "1eff73cc6701fe63"
  },
  {
   "metadata": {
    "ExecuteTime": {
     "end_time": "2025-09-24T20:58:10.758953Z",
     "start_time": "2025-09-18T12:41:17.377244Z"
    }
   },
   "cell_type": "code",
   "source": [
    "df = extract_tc_data(filename, verbose=False)\n",
    "\n",
    "print(f\"Extracted {len(df)} records\")\n",
    "print(f\"Columns: {list(df.columns)}\")\n",
    "print(f\"Sample data:\")\n",
    "print(df.head())"
   ],
   "id": "b5df800d7104564e",
   "outputs": [
    {
     "name": "stdout",
     "output_type": "stream",
     "text": [
      "Extracted 4163 records\n",
      "Columns: ['storm_id', 'ensemble_member', 'forecast_step_hours', 'datetime', 'significance_code', 'position_type', 'latitude', 'longitude', 'pressure_pa', 'pressure_hpa', 'wind_speed_ms', 'wind_speed_knots', 'wind_threshold_ms', 'wind_threshold_knots', 'bearing_degrees', 'max_radius_km', 'array_index', 'has_wind_radii']\n",
      "Sample data:\n",
      "  storm_id  ensemble_member  forecast_step_hours            datetime  \\\n",
      "0      11E                1                    6 2025-09-10 06:00:00   \n",
      "1      11E                2                    6 2025-09-10 06:00:00   \n",
      "2      11E                3                    6 2025-09-10 06:00:00   \n",
      "3      11E                4                    6 2025-09-10 06:00:00   \n",
      "4      11E                5                    6 2025-09-10 06:00:00   \n",
      "\n",
      "   significance_code      position_type  latitude  longitude  pressure_pa  \\\n",
      "0                  1       storm_center      22.7     -155.7          NaN   \n",
      "1                  4  analysis_position       NaN        NaN          NaN   \n",
      "2                  4  analysis_position       NaN        NaN          NaN   \n",
      "3                  4  analysis_position       NaN        NaN          NaN   \n",
      "4                  4  analysis_position       NaN        NaN          NaN   \n",
      "\n",
      "   pressure_hpa  wind_speed_ms  wind_speed_knots  wind_threshold_ms  \\\n",
      "0           NaN            NaN               NaN               18.0   \n",
      "1           NaN            NaN               NaN                NaN   \n",
      "2           NaN            NaN               NaN                NaN   \n",
      "3           NaN            NaN               NaN                NaN   \n",
      "4           NaN            NaN               NaN                NaN   \n",
      "\n",
      "   wind_threshold_knots  bearing_degrees max_radius_km  array_index  \\\n",
      "0              34.98912              0.0          None            0   \n",
      "1                   NaN              NaN          None            1   \n",
      "2                   NaN              NaN          None            2   \n",
      "3                   NaN              NaN          None            3   \n",
      "4                   NaN              NaN          None            4   \n",
      "\n",
      "   has_wind_radii  \n",
      "0            True  \n",
      "1           False  \n",
      "2           False  \n",
      "3           False  \n",
      "4           False  \n"
     ]
    }
   ],
   "execution_count": 27
  },
  {
   "metadata": {},
   "cell_type": "markdown",
   "source": "## Explore",
   "id": "2e6d1015f0034610"
  },
  {
   "metadata": {
    "ExecuteTime": {
     "end_time": "2025-09-24T20:58:10.759092Z",
     "start_time": "2025-09-18T12:41:17.409995Z"
    }
   },
   "cell_type": "code",
   "source": [
    "from ecmwf_tc_data_explorer import (\n",
    "    create_track_visualization,\n",
    "    create_intensity_plot,\n",
    "    create_wind_field_visualization\n",
    ")"
   ],
   "id": "b168d081ce1d02c",
   "outputs": [],
   "execution_count": 28
  },
  {
   "metadata": {
    "ExecuteTime": {
     "end_time": "2025-09-24T20:58:10.768086Z",
     "start_time": "2025-09-24T20:56:18.851718Z"
    }
   },
   "cell_type": "code",
   "source": [
    "# Load the extracted data\n",
    "csv_file = 'tc_kiko/A_JSXX02ECEP100000_C_ECMP_20250910000000_tropical_cyclone_track_KIKO_-155p7degW_22p7degN_bufr4_extracted.csv'"
   ],
   "id": "c6df52832959ffc9",
   "outputs": [],
   "execution_count": 1
  },
  {
   "metadata": {
    "ExecuteTime": {
     "end_time": "2025-09-24T20:58:10.769905Z",
     "start_time": "2025-09-18T12:41:18.659466Z"
    }
   },
   "cell_type": "code",
   "source": [
    "fig_tracks = create_track_visualization(csv_file)\n",
    "fig_tracks"
   ],
   "id": "5bd848c4aa23136a",
   "outputs": [],
   "execution_count": null
  },
  {
   "metadata": {},
   "cell_type": "code",
   "outputs": [],
   "execution_count": null,
   "source": "fig_wind = create_wind_field_visualization(csv_file)",
   "id": "6afc1396af06dcfa"
  },
  {
   "metadata": {},
   "cell_type": "code",
   "outputs": [],
   "execution_count": null,
   "source": "fig_intensity = create_intensity_plot(csv_file)",
   "id": "67797645d1ae0ac1"
  }
 ],
 "metadata": {
  "kernelspec": {
   "display_name": ".venv",
   "language": "python",
   "name": "python3"
  },
  "language_info": {
   "codemirror_mode": {
    "name": "ipython",
    "version": 3
   },
   "file_extension": ".py",
   "mimetype": "text/x-python",
   "name": "python",
   "nbconvert_exporter": "python",
   "pygments_lexer": "ipython3",
   "version": "3.13.0"
  }
 },
 "nbformat": 4,
 "nbformat_minor": 5
}
